{
 "cells": [
  {
   "cell_type": "markdown",
   "metadata": {},
   "source": [
    "## CAR PRICING PREDICTION IN THE US BASED ON DIFFERENT VARIABLES"
   ]
  },
  {
   "cell_type": "markdown",
   "metadata": {},
   "source": [
    "The business goal of this project is to model the price of cars with the available independent variables. \n",
    "The data analysis and the interpretation of it will be used by the management to understand how exactly the prices vary with these independent variables. \n",
    "The mamangement can also use the information to manipulate the design of the cars, the business strategies, etc. to meet certain price levels. \n",
    "Further, the model will be a good way for the management to understand the pricing dynamics of the US market."
   ]
  },
  {
   "cell_type": "code",
   "execution_count": 138,
   "metadata": {},
   "outputs": [],
   "source": [
    "import matplotlib.pyplot as plt\n",
    "import seaborn as sns\n",
    "import pandas as pd\n",
    "import numpy as np\n",
    "from sklearn.model_selection import train_test_split\n",
    "from sklearn.linear_model import LinearRegression\n",
    "from sklearn.ensemble import RandomForestRegressor as RFR\n",
    "import warnings"
   ]
  },
  {
   "cell_type": "code",
   "execution_count": 139,
   "metadata": {},
   "outputs": [],
   "source": [
    "data = pd.read_csv('datasets_383055_741735_CarPrice_Assignment.csv')"
   ]
  },
  {
   "cell_type": "code",
   "execution_count": 140,
   "metadata": {},
   "outputs": [
    {
     "data": {
      "text/html": [
       "<div>\n",
       "<style scoped>\n",
       "    .dataframe tbody tr th:only-of-type {\n",
       "        vertical-align: middle;\n",
       "    }\n",
       "\n",
       "    .dataframe tbody tr th {\n",
       "        vertical-align: top;\n",
       "    }\n",
       "\n",
       "    .dataframe thead th {\n",
       "        text-align: right;\n",
       "    }\n",
       "</style>\n",
       "<table border=\"1\" class=\"dataframe\">\n",
       "  <thead>\n",
       "    <tr style=\"text-align: right;\">\n",
       "      <th></th>\n",
       "      <th>Unnamed: 0</th>\n",
       "      <th>car_ID</th>\n",
       "      <th>symboling</th>\n",
       "      <th>CarName</th>\n",
       "      <th>fueltype</th>\n",
       "      <th>aspiration</th>\n",
       "      <th>doornumber</th>\n",
       "      <th>carbody</th>\n",
       "      <th>drivewheel</th>\n",
       "      <th>enginelocation</th>\n",
       "      <th>wheelbase</th>\n",
       "      <th>carlength</th>\n",
       "      <th>carwidth</th>\n",
       "      <th>carheight</th>\n",
       "      <th>curbweight</th>\n",
       "      <th>enginetype</th>\n",
       "      <th>cylindernumber</th>\n",
       "      <th>enginesize</th>\n",
       "      <th>fuelsystem</th>\n",
       "      <th>boreratio</th>\n",
       "      <th>stroke</th>\n",
       "      <th>compressionratio</th>\n",
       "      <th>horsepower</th>\n",
       "      <th>peakrpm</th>\n",
       "      <th>citympg</th>\n",
       "      <th>highwaympg</th>\n",
       "      <th>price</th>\n",
       "    </tr>\n",
       "  </thead>\n",
       "  <tbody>\n",
       "    <tr>\n",
       "      <th>0</th>\n",
       "      <td>0</td>\n",
       "      <td>1</td>\n",
       "      <td>3</td>\n",
       "      <td>alfa-romero giulia</td>\n",
       "      <td>gas</td>\n",
       "      <td>std</td>\n",
       "      <td>two</td>\n",
       "      <td>convertible</td>\n",
       "      <td>rwd</td>\n",
       "      <td>front</td>\n",
       "      <td>88.6</td>\n",
       "      <td>168.8</td>\n",
       "      <td>64.1</td>\n",
       "      <td>48.8</td>\n",
       "      <td>2548</td>\n",
       "      <td>dohc</td>\n",
       "      <td>four</td>\n",
       "      <td>130</td>\n",
       "      <td>mpfi</td>\n",
       "      <td>3.47</td>\n",
       "      <td>2.68</td>\n",
       "      <td>9.0</td>\n",
       "      <td>111</td>\n",
       "      <td>5000</td>\n",
       "      <td>21</td>\n",
       "      <td>27</td>\n",
       "      <td>13495.0</td>\n",
       "    </tr>\n",
       "    <tr>\n",
       "      <th>1</th>\n",
       "      <td>1</td>\n",
       "      <td>2</td>\n",
       "      <td>3</td>\n",
       "      <td>alfa-romero stelvio</td>\n",
       "      <td>gas</td>\n",
       "      <td>std</td>\n",
       "      <td>two</td>\n",
       "      <td>convertible</td>\n",
       "      <td>rwd</td>\n",
       "      <td>front</td>\n",
       "      <td>88.6</td>\n",
       "      <td>168.8</td>\n",
       "      <td>64.1</td>\n",
       "      <td>48.8</td>\n",
       "      <td>2548</td>\n",
       "      <td>dohc</td>\n",
       "      <td>four</td>\n",
       "      <td>130</td>\n",
       "      <td>mpfi</td>\n",
       "      <td>3.47</td>\n",
       "      <td>2.68</td>\n",
       "      <td>9.0</td>\n",
       "      <td>111</td>\n",
       "      <td>5000</td>\n",
       "      <td>21</td>\n",
       "      <td>27</td>\n",
       "      <td>16500.0</td>\n",
       "    </tr>\n",
       "    <tr>\n",
       "      <th>2</th>\n",
       "      <td>2</td>\n",
       "      <td>3</td>\n",
       "      <td>1</td>\n",
       "      <td>alfa-romero Quadrifoglio</td>\n",
       "      <td>gas</td>\n",
       "      <td>std</td>\n",
       "      <td>two</td>\n",
       "      <td>hatchback</td>\n",
       "      <td>rwd</td>\n",
       "      <td>front</td>\n",
       "      <td>94.5</td>\n",
       "      <td>171.2</td>\n",
       "      <td>65.5</td>\n",
       "      <td>52.4</td>\n",
       "      <td>2823</td>\n",
       "      <td>ohcv</td>\n",
       "      <td>six</td>\n",
       "      <td>152</td>\n",
       "      <td>mpfi</td>\n",
       "      <td>2.68</td>\n",
       "      <td>3.47</td>\n",
       "      <td>9.0</td>\n",
       "      <td>154</td>\n",
       "      <td>5000</td>\n",
       "      <td>19</td>\n",
       "      <td>26</td>\n",
       "      <td>16500.0</td>\n",
       "    </tr>\n",
       "    <tr>\n",
       "      <th>3</th>\n",
       "      <td>3</td>\n",
       "      <td>4</td>\n",
       "      <td>2</td>\n",
       "      <td>audi 100 ls</td>\n",
       "      <td>gas</td>\n",
       "      <td>std</td>\n",
       "      <td>four</td>\n",
       "      <td>sedan</td>\n",
       "      <td>fwd</td>\n",
       "      <td>front</td>\n",
       "      <td>99.8</td>\n",
       "      <td>176.6</td>\n",
       "      <td>66.2</td>\n",
       "      <td>54.3</td>\n",
       "      <td>2337</td>\n",
       "      <td>ohc</td>\n",
       "      <td>four</td>\n",
       "      <td>109</td>\n",
       "      <td>mpfi</td>\n",
       "      <td>3.19</td>\n",
       "      <td>3.40</td>\n",
       "      <td>10.0</td>\n",
       "      <td>102</td>\n",
       "      <td>5500</td>\n",
       "      <td>24</td>\n",
       "      <td>30</td>\n",
       "      <td>13950.0</td>\n",
       "    </tr>\n",
       "    <tr>\n",
       "      <th>4</th>\n",
       "      <td>4</td>\n",
       "      <td>5</td>\n",
       "      <td>2</td>\n",
       "      <td>audi 100ls</td>\n",
       "      <td>gas</td>\n",
       "      <td>std</td>\n",
       "      <td>four</td>\n",
       "      <td>sedan</td>\n",
       "      <td>4wd</td>\n",
       "      <td>front</td>\n",
       "      <td>99.4</td>\n",
       "      <td>176.6</td>\n",
       "      <td>66.4</td>\n",
       "      <td>54.3</td>\n",
       "      <td>2824</td>\n",
       "      <td>ohc</td>\n",
       "      <td>five</td>\n",
       "      <td>136</td>\n",
       "      <td>mpfi</td>\n",
       "      <td>3.19</td>\n",
       "      <td>3.40</td>\n",
       "      <td>8.0</td>\n",
       "      <td>115</td>\n",
       "      <td>5500</td>\n",
       "      <td>18</td>\n",
       "      <td>22</td>\n",
       "      <td>17450.0</td>\n",
       "    </tr>\n",
       "  </tbody>\n",
       "</table>\n",
       "</div>"
      ],
      "text/plain": [
       "   Unnamed: 0  car_ID  symboling                   CarName fueltype  \\\n",
       "0           0       1          3        alfa-romero giulia      gas   \n",
       "1           1       2          3       alfa-romero stelvio      gas   \n",
       "2           2       3          1  alfa-romero Quadrifoglio      gas   \n",
       "3           3       4          2               audi 100 ls      gas   \n",
       "4           4       5          2                audi 100ls      gas   \n",
       "\n",
       "  aspiration doornumber      carbody drivewheel enginelocation  wheelbase  \\\n",
       "0        std        two  convertible        rwd          front       88.6   \n",
       "1        std        two  convertible        rwd          front       88.6   \n",
       "2        std        two    hatchback        rwd          front       94.5   \n",
       "3        std       four        sedan        fwd          front       99.8   \n",
       "4        std       four        sedan        4wd          front       99.4   \n",
       "\n",
       "   carlength  carwidth  carheight  curbweight enginetype cylindernumber  \\\n",
       "0      168.8      64.1       48.8        2548       dohc           four   \n",
       "1      168.8      64.1       48.8        2548       dohc           four   \n",
       "2      171.2      65.5       52.4        2823       ohcv            six   \n",
       "3      176.6      66.2       54.3        2337        ohc           four   \n",
       "4      176.6      66.4       54.3        2824        ohc           five   \n",
       "\n",
       "   enginesize fuelsystem  boreratio  stroke  compressionratio  horsepower  \\\n",
       "0         130       mpfi       3.47    2.68               9.0         111   \n",
       "1         130       mpfi       3.47    2.68               9.0         111   \n",
       "2         152       mpfi       2.68    3.47               9.0         154   \n",
       "3         109       mpfi       3.19    3.40              10.0         102   \n",
       "4         136       mpfi       3.19    3.40               8.0         115   \n",
       "\n",
       "   peakrpm  citympg  highwaympg    price  \n",
       "0     5000       21          27  13495.0  \n",
       "1     5000       21          27  16500.0  \n",
       "2     5000       19          26  16500.0  \n",
       "3     5500       24          30  13950.0  \n",
       "4     5500       18          22  17450.0  "
      ]
     },
     "execution_count": 140,
     "metadata": {},
     "output_type": "execute_result"
    }
   ],
   "source": [
    "data.head()"
   ]
  },
  {
   "cell_type": "code",
   "execution_count": 141,
   "metadata": {},
   "outputs": [
    {
     "data": {
      "text/plain": [
       "toyota corona                      6\n",
       "peugeot 504                        6\n",
       "toyota corolla                     6\n",
       "subaru dl                          4\n",
       "honda civic                        3\n",
       "mazda 626                          3\n",
       "mitsubishi outlander               3\n",
       "toyota mark ii                     3\n",
       "mitsubishi g4                      3\n",
       "mitsubishi mirage g4               3\n",
       "volvo 145e (sw)                    2\n",
       "honda accord                       2\n",
       "volvo 144ea                        2\n",
       "porsche cayenne                    2\n",
       "saab 99e                           2\n",
       "volkswagen dasher                  2\n",
       "subaru                             2\n",
       "saab 99le                          2\n",
       "audi 100ls                         2\n",
       "mazda rx-7 gs                      2\n",
       "peugeot 604sl                      2\n",
       "saab 99gle                         2\n",
       "nissan clipper                     2\n",
       "bmw x3                             2\n",
       "nissan latio                       2\n",
       "mazda glc                          2\n",
       "plymouth fury iii                  2\n",
       "toyota starlet                     2\n",
       "honda civic cvcc                   2\n",
       "volvo 264gl                        2\n",
       "volvo 244dl                        2\n",
       "isuzu D-Max                        2\n",
       "mazda glc deluxe                   2\n",
       "nissan rogue                       2\n",
       "toyota corolla 1200                2\n",
       "bmw 320i                           2\n",
       "mazda rx-4                         2\n",
       "toyota corolla liftback            2\n",
       "nissan titan                       1\n",
       "peugeot 304                        1\n",
       "toyota cressida                    1\n",
       "mazda glc 4                        1\n",
       "jaguar xf                          1\n",
       "buick century special              1\n",
       "peugeot 505s turbo diesel          1\n",
       "dodge rampage                      1\n",
       "buick electra 225 custom           1\n",
       "honda civic 1500 gl                1\n",
       "dodge colt (sw)                    1\n",
       "bmw x1                             1\n",
       "bmw x4                             1\n",
       "toyota corona liftback             1\n",
       "mazda rx2 coupe                    1\n",
       "buick skylark                      1\n",
       "nissan juke                        1\n",
       "subaru brz                         1\n",
       "honda accord lx                    1\n",
       "buick century luxus (sw)           1\n",
       "toyota tercel                      1\n",
       "alfa-romero giulia                 1\n",
       "dodge monaco (sw)                  1\n",
       "audi 5000s (diesel)                1\n",
       "honda civic 1300                   1\n",
       "mazda glc custom                   1\n",
       "dodge coronet custom               1\n",
       "nissan kicks                       1\n",
       "chevrolet impala                   1\n",
       "plymouth satellite custom (sw)     1\n",
       "nissan nv200                       1\n",
       "volvo 245                          1\n",
       "alfa-romero Quadrifoglio           1\n",
       "toyota corona hardtop              1\n",
       "toyouta tercel                     1\n",
       "subaru tribeca                     1\n",
       "bmw x5                             1\n",
       "plymouth cricket                   1\n",
       "chevrolet vega 2300                1\n",
       "plymouth fury gran sedan           1\n",
       "nissan leaf                        1\n",
       "toyota celica gt liftback          1\n",
       "honda accord cvcc                  1\n",
       "isuzu MU-X                         1\n",
       "toyota corolla tercel              1\n",
       "plymouth valiant                   1\n",
       "mitsubishi lancer                  1\n",
       "volkswagen rabbit                  1\n",
       "volvo 246                          1\n",
       "bmw z4                             1\n",
       "renault 12tl                       1\n",
       "vw dasher                          1\n",
       "nissan teana                       1\n",
       "audi 4000                          1\n",
       "subaru r2                          1\n",
       "peugeot 504 (sw)                   1\n",
       "nissan gt-r                        1\n",
       "renault 5 gtl                      1\n",
       "buick skyhawk                      1\n",
       "volkswagen super beetle            1\n",
       "audi 100 ls                        1\n",
       "volvo diesel                       1\n",
       "nissan otti                        1\n",
       "mazda glc custom l                 1\n",
       "isuzu D-Max V-Cross                1\n",
       "porsche macan                      1\n",
       "alfa-romero stelvio                1\n",
       "maxda rx3                          1\n",
       "mercury cougar                     1\n",
       "jaguar xj                          1\n",
       "mitsubishi mirage                  1\n",
       "volkswagen model 111               1\n",
       "honda civic (auto)                 1\n",
       "volkswagen 1131 deluxe sedan       1\n",
       "volkswagen 411 (sw)                1\n",
       "plymouth duster                    1\n",
       "vokswagen rabbit                   1\n",
       "vw rabbit                          1\n",
       "mitsubishi pajero                  1\n",
       "subaru baja                        1\n",
       "dodge coronet custom (sw)          1\n",
       "buick opel isuzu deluxe            1\n",
       "porsche boxter                     1\n",
       "honda prelude                      1\n",
       "volkswagen rabbit custom           1\n",
       "volkswagen type 3                  1\n",
       "dodge dart custom                  1\n",
       "toyota corona mark ii              1\n",
       "subaru r1                          1\n",
       "porcshce panamera                  1\n",
       "dodge colt hardtop                 1\n",
       "chevrolet monte carlo              1\n",
       "buick regal sport coupe (turbo)    1\n",
       "maxda glc deluxe                   1\n",
       "nissan note                        1\n",
       "mitsubishi montero                 1\n",
       "Nissan versa                       1\n",
       "dodge challenger se                1\n",
       "nissan dayz                        1\n",
       "audi fox                           1\n",
       "subaru trezia                      1\n",
       "buick century                      1\n",
       "audi 5000                          1\n",
       "nissan fuga                        1\n",
       "toyota carina                      1\n",
       "jaguar xk                          1\n",
       "toyota celica gt                   1\n",
       "toyota corolla 1600 (sw)           1\n",
       "dodge d200                         1\n",
       "Name: CarName, dtype: int64"
      ]
     },
     "execution_count": 141,
     "metadata": {},
     "output_type": "execute_result"
    }
   ],
   "source": [
    "data['CarName'].value_counts()"
   ]
  },
  {
   "cell_type": "code",
   "execution_count": 142,
   "metadata": {},
   "outputs": [],
   "source": [
    "pd.set_option('display.max_columns', 90)\n",
    "pd.set_option('display.max_rows', 200)"
   ]
  },
  {
   "cell_type": "code",
   "execution_count": 143,
   "metadata": {},
   "outputs": [],
   "source": [
    "data.drop(['car_ID'], axis='columns', inplace=True)"
   ]
  },
  {
   "cell_type": "code",
   "execution_count": 144,
   "metadata": {},
   "outputs": [],
   "source": [
    "data.drop(['Unnamed: 0'], axis=1, inplace=True)"
   ]
  },
  {
   "cell_type": "code",
   "execution_count": 145,
   "metadata": {},
   "outputs": [
    {
     "data": {
      "text/html": [
       "<div>\n",
       "<style scoped>\n",
       "    .dataframe tbody tr th:only-of-type {\n",
       "        vertical-align: middle;\n",
       "    }\n",
       "\n",
       "    .dataframe tbody tr th {\n",
       "        vertical-align: top;\n",
       "    }\n",
       "\n",
       "    .dataframe thead th {\n",
       "        text-align: right;\n",
       "    }\n",
       "</style>\n",
       "<table border=\"1\" class=\"dataframe\">\n",
       "  <thead>\n",
       "    <tr style=\"text-align: right;\">\n",
       "      <th></th>\n",
       "      <th>symboling</th>\n",
       "      <th>wheelbase</th>\n",
       "      <th>carlength</th>\n",
       "      <th>carwidth</th>\n",
       "      <th>carheight</th>\n",
       "      <th>curbweight</th>\n",
       "      <th>enginesize</th>\n",
       "      <th>boreratio</th>\n",
       "      <th>stroke</th>\n",
       "      <th>compressionratio</th>\n",
       "      <th>horsepower</th>\n",
       "      <th>peakrpm</th>\n",
       "      <th>citympg</th>\n",
       "      <th>highwaympg</th>\n",
       "      <th>price</th>\n",
       "    </tr>\n",
       "  </thead>\n",
       "  <tbody>\n",
       "    <tr>\n",
       "      <th>count</th>\n",
       "      <td>205.000000</td>\n",
       "      <td>205.000000</td>\n",
       "      <td>205.000000</td>\n",
       "      <td>205.000000</td>\n",
       "      <td>205.000000</td>\n",
       "      <td>205.000000</td>\n",
       "      <td>205.000000</td>\n",
       "      <td>205.000000</td>\n",
       "      <td>205.000000</td>\n",
       "      <td>205.000000</td>\n",
       "      <td>205.000000</td>\n",
       "      <td>205.000000</td>\n",
       "      <td>205.000000</td>\n",
       "      <td>205.000000</td>\n",
       "      <td>205.000000</td>\n",
       "    </tr>\n",
       "    <tr>\n",
       "      <th>mean</th>\n",
       "      <td>0.834146</td>\n",
       "      <td>98.756585</td>\n",
       "      <td>174.049268</td>\n",
       "      <td>65.907805</td>\n",
       "      <td>53.724878</td>\n",
       "      <td>2555.565854</td>\n",
       "      <td>126.907317</td>\n",
       "      <td>3.329756</td>\n",
       "      <td>3.255415</td>\n",
       "      <td>10.142537</td>\n",
       "      <td>104.117073</td>\n",
       "      <td>5125.121951</td>\n",
       "      <td>25.219512</td>\n",
       "      <td>30.751220</td>\n",
       "      <td>13276.710571</td>\n",
       "    </tr>\n",
       "    <tr>\n",
       "      <th>std</th>\n",
       "      <td>1.245307</td>\n",
       "      <td>6.021776</td>\n",
       "      <td>12.337289</td>\n",
       "      <td>2.145204</td>\n",
       "      <td>2.443522</td>\n",
       "      <td>520.680204</td>\n",
       "      <td>41.642693</td>\n",
       "      <td>0.270844</td>\n",
       "      <td>0.313597</td>\n",
       "      <td>3.972040</td>\n",
       "      <td>39.544167</td>\n",
       "      <td>476.985643</td>\n",
       "      <td>6.542142</td>\n",
       "      <td>6.886443</td>\n",
       "      <td>7988.852332</td>\n",
       "    </tr>\n",
       "    <tr>\n",
       "      <th>min</th>\n",
       "      <td>-2.000000</td>\n",
       "      <td>86.600000</td>\n",
       "      <td>141.100000</td>\n",
       "      <td>60.300000</td>\n",
       "      <td>47.800000</td>\n",
       "      <td>1488.000000</td>\n",
       "      <td>61.000000</td>\n",
       "      <td>2.540000</td>\n",
       "      <td>2.070000</td>\n",
       "      <td>7.000000</td>\n",
       "      <td>48.000000</td>\n",
       "      <td>4150.000000</td>\n",
       "      <td>13.000000</td>\n",
       "      <td>16.000000</td>\n",
       "      <td>5118.000000</td>\n",
       "    </tr>\n",
       "    <tr>\n",
       "      <th>25%</th>\n",
       "      <td>0.000000</td>\n",
       "      <td>94.500000</td>\n",
       "      <td>166.300000</td>\n",
       "      <td>64.100000</td>\n",
       "      <td>52.000000</td>\n",
       "      <td>2145.000000</td>\n",
       "      <td>97.000000</td>\n",
       "      <td>3.150000</td>\n",
       "      <td>3.110000</td>\n",
       "      <td>8.600000</td>\n",
       "      <td>70.000000</td>\n",
       "      <td>4800.000000</td>\n",
       "      <td>19.000000</td>\n",
       "      <td>25.000000</td>\n",
       "      <td>7788.000000</td>\n",
       "    </tr>\n",
       "    <tr>\n",
       "      <th>50%</th>\n",
       "      <td>1.000000</td>\n",
       "      <td>97.000000</td>\n",
       "      <td>173.200000</td>\n",
       "      <td>65.500000</td>\n",
       "      <td>54.100000</td>\n",
       "      <td>2414.000000</td>\n",
       "      <td>120.000000</td>\n",
       "      <td>3.310000</td>\n",
       "      <td>3.290000</td>\n",
       "      <td>9.000000</td>\n",
       "      <td>95.000000</td>\n",
       "      <td>5200.000000</td>\n",
       "      <td>24.000000</td>\n",
       "      <td>30.000000</td>\n",
       "      <td>10295.000000</td>\n",
       "    </tr>\n",
       "    <tr>\n",
       "      <th>75%</th>\n",
       "      <td>2.000000</td>\n",
       "      <td>102.400000</td>\n",
       "      <td>183.100000</td>\n",
       "      <td>66.900000</td>\n",
       "      <td>55.500000</td>\n",
       "      <td>2935.000000</td>\n",
       "      <td>141.000000</td>\n",
       "      <td>3.580000</td>\n",
       "      <td>3.410000</td>\n",
       "      <td>9.400000</td>\n",
       "      <td>116.000000</td>\n",
       "      <td>5500.000000</td>\n",
       "      <td>30.000000</td>\n",
       "      <td>34.000000</td>\n",
       "      <td>16503.000000</td>\n",
       "    </tr>\n",
       "    <tr>\n",
       "      <th>max</th>\n",
       "      <td>3.000000</td>\n",
       "      <td>120.900000</td>\n",
       "      <td>208.100000</td>\n",
       "      <td>72.300000</td>\n",
       "      <td>59.800000</td>\n",
       "      <td>4066.000000</td>\n",
       "      <td>326.000000</td>\n",
       "      <td>3.940000</td>\n",
       "      <td>4.170000</td>\n",
       "      <td>23.000000</td>\n",
       "      <td>288.000000</td>\n",
       "      <td>6600.000000</td>\n",
       "      <td>49.000000</td>\n",
       "      <td>54.000000</td>\n",
       "      <td>45400.000000</td>\n",
       "    </tr>\n",
       "  </tbody>\n",
       "</table>\n",
       "</div>"
      ],
      "text/plain": [
       "        symboling   wheelbase   carlength    carwidth   carheight  \\\n",
       "count  205.000000  205.000000  205.000000  205.000000  205.000000   \n",
       "mean     0.834146   98.756585  174.049268   65.907805   53.724878   \n",
       "std      1.245307    6.021776   12.337289    2.145204    2.443522   \n",
       "min     -2.000000   86.600000  141.100000   60.300000   47.800000   \n",
       "25%      0.000000   94.500000  166.300000   64.100000   52.000000   \n",
       "50%      1.000000   97.000000  173.200000   65.500000   54.100000   \n",
       "75%      2.000000  102.400000  183.100000   66.900000   55.500000   \n",
       "max      3.000000  120.900000  208.100000   72.300000   59.800000   \n",
       "\n",
       "        curbweight  enginesize   boreratio      stroke  compressionratio  \\\n",
       "count   205.000000  205.000000  205.000000  205.000000        205.000000   \n",
       "mean   2555.565854  126.907317    3.329756    3.255415         10.142537   \n",
       "std     520.680204   41.642693    0.270844    0.313597          3.972040   \n",
       "min    1488.000000   61.000000    2.540000    2.070000          7.000000   \n",
       "25%    2145.000000   97.000000    3.150000    3.110000          8.600000   \n",
       "50%    2414.000000  120.000000    3.310000    3.290000          9.000000   \n",
       "75%    2935.000000  141.000000    3.580000    3.410000          9.400000   \n",
       "max    4066.000000  326.000000    3.940000    4.170000         23.000000   \n",
       "\n",
       "       horsepower      peakrpm     citympg  highwaympg         price  \n",
       "count  205.000000   205.000000  205.000000  205.000000    205.000000  \n",
       "mean   104.117073  5125.121951   25.219512   30.751220  13276.710571  \n",
       "std     39.544167   476.985643    6.542142    6.886443   7988.852332  \n",
       "min     48.000000  4150.000000   13.000000   16.000000   5118.000000  \n",
       "25%     70.000000  4800.000000   19.000000   25.000000   7788.000000  \n",
       "50%     95.000000  5200.000000   24.000000   30.000000  10295.000000  \n",
       "75%    116.000000  5500.000000   30.000000   34.000000  16503.000000  \n",
       "max    288.000000  6600.000000   49.000000   54.000000  45400.000000  "
      ]
     },
     "execution_count": 145,
     "metadata": {},
     "output_type": "execute_result"
    }
   ],
   "source": [
    "data.describe()"
   ]
  },
  {
   "cell_type": "markdown",
   "metadata": {},
   "source": [
    ">Here is the commencement of cleaning the dataset which comes in different phases"
   ]
  },
  {
   "cell_type": "markdown",
   "metadata": {},
   "source": [
    "   >DATA CLEANING        STAGE 1"
   ]
  },
  {
   "cell_type": "markdown",
   "metadata": {},
   "source": [
    ">APPLYING LABEL ENCODER ON ALL CATEGORICAL FEATURES"
   ]
  },
  {
   "cell_type": "code",
   "execution_count": 146,
   "metadata": {},
   "outputs": [
    {
     "data": {
      "text/plain": [
       "array(['two', 'four'], dtype=object)"
      ]
     },
     "execution_count": 146,
     "metadata": {},
     "output_type": "execute_result"
    }
   ],
   "source": [
    "data['doornumber'].unique()"
   ]
  },
  {
   "cell_type": "code",
   "execution_count": 147,
   "metadata": {},
   "outputs": [],
   "source": [
    "data['doornumber'].replace({'two': 2, 'four': 4}, inplace = True)"
   ]
  },
  {
   "cell_type": "code",
   "execution_count": 148,
   "metadata": {},
   "outputs": [
    {
     "data": {
      "text/plain": [
       "array(['std', 'turbo'], dtype=object)"
      ]
     },
     "execution_count": 148,
     "metadata": {},
     "output_type": "execute_result"
    }
   ],
   "source": [
    "data['aspiration'].unique()"
   ]
  },
  {
   "cell_type": "code",
   "execution_count": 149,
   "metadata": {},
   "outputs": [],
   "source": [
    "data['aspiration'].replace({'std': 0, 'turbo': 1}, inplace = True)"
   ]
  },
  {
   "cell_type": "code",
   "execution_count": 150,
   "metadata": {},
   "outputs": [
    {
     "data": {
      "text/plain": [
       "array(['rwd', 'fwd', '4wd'], dtype=object)"
      ]
     },
     "execution_count": 150,
     "metadata": {},
     "output_type": "execute_result"
    }
   ],
   "source": [
    "data['drivewheel'].unique()"
   ]
  },
  {
   "cell_type": "code",
   "execution_count": 151,
   "metadata": {},
   "outputs": [],
   "source": [
    "data['drivewheel'].replace({'rwd': 0, 'fwd': 1, '4wd': 2}, inplace = True)"
   ]
  },
  {
   "cell_type": "code",
   "execution_count": 152,
   "metadata": {},
   "outputs": [
    {
     "data": {
      "text/plain": [
       "array(['convertible', 'hatchback', 'sedan', 'wagon', 'hardtop'],\n",
       "      dtype=object)"
      ]
     },
     "execution_count": 152,
     "metadata": {},
     "output_type": "execute_result"
    }
   ],
   "source": [
    "data['carbody'].unique()"
   ]
  },
  {
   "cell_type": "code",
   "execution_count": 153,
   "metadata": {},
   "outputs": [],
   "source": [
    "data['carbody'].replace({'convertible': 0, 'hatchback': 1, 'sedan': 2, 'wagon': 3, 'hardtop': 4}, inplace = True)"
   ]
  },
  {
   "cell_type": "code",
   "execution_count": 154,
   "metadata": {},
   "outputs": [
    {
     "data": {
      "text/plain": [
       "array(['front', 'rear'], dtype=object)"
      ]
     },
     "execution_count": 154,
     "metadata": {},
     "output_type": "execute_result"
    }
   ],
   "source": [
    "data['enginelocation'].unique()"
   ]
  },
  {
   "cell_type": "code",
   "execution_count": 155,
   "metadata": {},
   "outputs": [],
   "source": [
    "data['enginelocation'].replace({'front': 0, 'rear': 1}, inplace = True)"
   ]
  },
  {
   "cell_type": "code",
   "execution_count": 156,
   "metadata": {},
   "outputs": [
    {
     "data": {
      "text/plain": [
       "array(['dohc', 'ohcv', 'ohc', 'l', 'rotor', 'ohcf', 'dohcv'], dtype=object)"
      ]
     },
     "execution_count": 156,
     "metadata": {},
     "output_type": "execute_result"
    }
   ],
   "source": [
    "data['enginetype'].unique()"
   ]
  },
  {
   "cell_type": "code",
   "execution_count": 157,
   "metadata": {},
   "outputs": [],
   "source": [
    "data['enginetype'].replace({'dohc': 0, 'ohcv': 1, 'ohc': 2, 'l': 3, 'rotor': 4, 'ohcf': 5, 'dohcv': 6}, inplace = True)"
   ]
  },
  {
   "cell_type": "code",
   "execution_count": 158,
   "metadata": {},
   "outputs": [
    {
     "data": {
      "text/plain": [
       "array(['four', 'six', 'five', 'three', 'twelve', 'two', 'eight'],\n",
       "      dtype=object)"
      ]
     },
     "execution_count": 158,
     "metadata": {},
     "output_type": "execute_result"
    }
   ],
   "source": [
    "data['cylindernumber'].unique()"
   ]
  },
  {
   "cell_type": "code",
   "execution_count": 159,
   "metadata": {},
   "outputs": [],
   "source": [
    "data['cylindernumber'].replace({'four': 4, 'six': 6, 'five': 5, 'three': 3, 'twelve': 12, 'two': 2, 'eight': 8}, inplace = True)"
   ]
  },
  {
   "cell_type": "code",
   "execution_count": 160,
   "metadata": {},
   "outputs": [
    {
     "data": {
      "text/plain": [
       "array(['mpfi', '2bbl', 'mfi', '1bbl', 'spfi', '4bbl', 'idi', 'spdi'],\n",
       "      dtype=object)"
      ]
     },
     "execution_count": 160,
     "metadata": {},
     "output_type": "execute_result"
    }
   ],
   "source": [
    "data['fuelsystem'].unique()"
   ]
  },
  {
   "cell_type": "code",
   "execution_count": 161,
   "metadata": {},
   "outputs": [],
   "source": [
    "data['fuelsystem'].replace({'mpfi': 0, '2bbl': 1, 'mfi': 2, '1bbl': 3, 'spfi': 4, '4bbl': 5, 'idi': 6, 'spdi': 7}, inplace = True)"
   ]
  },
  {
   "cell_type": "code",
   "execution_count": 162,
   "metadata": {},
   "outputs": [
    {
     "data": {
      "text/plain": [
       "array(['gas', 'diesel'], dtype=object)"
      ]
     },
     "execution_count": 162,
     "metadata": {},
     "output_type": "execute_result"
    }
   ],
   "source": [
    "data['fueltype'].unique()"
   ]
  },
  {
   "cell_type": "code",
   "execution_count": 163,
   "metadata": {},
   "outputs": [],
   "source": [
    "data['fueltype'].replace({'gas': 0, 'diesel': 1}, inplace = True)"
   ]
  },
  {
   "cell_type": "markdown",
   "metadata": {},
   "source": [
    ">DATA CLEANING STAGE 2"
   ]
  },
  {
   "cell_type": "markdown",
   "metadata": {},
   "source": [
    ">This is the process of generating the 'MAKE' and 'MODEL' out of the 'CarName' column"
   ]
  },
  {
   "cell_type": "markdown",
   "metadata": {},
   "source": [
    ">It is observed that new features 'Make' and 'Model' should be created out of variable 'CarName' to enhance\n",
    ">exploration on the dataset"
   ]
  },
  {
   "cell_type": "code",
   "execution_count": 164,
   "metadata": {},
   "outputs": [
    {
     "data": {
      "text/plain": [
       "['volkswagen', 'model', '111']"
      ]
     },
     "execution_count": 164,
     "metadata": {},
     "output_type": "execute_result"
    }
   ],
   "source": [
    "name = 'volkswagen model 111'\n",
    "name.split()"
   ]
  },
  {
   "cell_type": "code",
   "execution_count": 165,
   "metadata": {},
   "outputs": [
    {
     "data": {
      "text/plain": [
       "'volkswagen'"
      ]
     },
     "execution_count": 165,
     "metadata": {},
     "output_type": "execute_result"
    }
   ],
   "source": [
    "name = 'volkswagen model 111'\n",
    "name.split()[0]"
   ]
  },
  {
   "cell_type": "code",
   "execution_count": 166,
   "metadata": {},
   "outputs": [],
   "source": [
    "make = lambda name: name.split()[0]"
   ]
  },
  {
   "cell_type": "code",
   "execution_count": 167,
   "metadata": {},
   "outputs": [
    {
     "data": {
      "text/plain": [
       "'volkswagen'"
      ]
     },
     "execution_count": 167,
     "metadata": {},
     "output_type": "execute_result"
    }
   ],
   "source": [
    "make('volkswagen model 111')   # Here, column 'Make' is generated out of CarName column, and will broadcast to the entire samples."
   ]
  },
  {
   "cell_type": "code",
   "execution_count": 168,
   "metadata": {},
   "outputs": [
    {
     "data": {
      "text/plain": [
       "['volkswagen', 'model', '111']"
      ]
     },
     "execution_count": 168,
     "metadata": {},
     "output_type": "execute_result"
    }
   ],
   "source": [
    "name = 'volkswagen model 111'    # Here, column 'model' is to be generated\n",
    "name.split()"
   ]
  },
  {
   "cell_type": "code",
   "execution_count": 169,
   "metadata": {},
   "outputs": [],
   "source": [
    "name_split = name.split()"
   ]
  },
  {
   "cell_type": "code",
   "execution_count": 170,
   "metadata": {},
   "outputs": [],
   "source": [
    "name_sl = name_split[1:]"
   ]
  },
  {
   "cell_type": "code",
   "execution_count": 171,
   "metadata": {},
   "outputs": [
    {
     "data": {
      "text/plain": [
       "'model-111'"
      ]
     },
     "execution_count": 171,
     "metadata": {},
     "output_type": "execute_result"
    }
   ],
   "source": [
    "'-'.join(name_sl)"
   ]
  },
  {
   "cell_type": "code",
   "execution_count": 172,
   "metadata": {},
   "outputs": [],
   "source": [
    "model = lambda name: '-'.join(name.split()[1:])"
   ]
  },
  {
   "cell_type": "code",
   "execution_count": 173,
   "metadata": {},
   "outputs": [],
   "source": [
    "name = 'volkswagen model 111'"
   ]
  },
  {
   "cell_type": "code",
   "execution_count": 174,
   "metadata": {},
   "outputs": [],
   "source": [
    "#[name for ind in name '-'join(name.split()[1:])]"
   ]
  },
  {
   "cell_type": "code",
   "execution_count": 175,
   "metadata": {},
   "outputs": [
    {
     "data": {
      "text/plain": [
       "'model-111'"
      ]
     },
     "execution_count": 175,
     "metadata": {},
     "output_type": "execute_result"
    }
   ],
   "source": [
    "model('volkswagen model 111')"
   ]
  },
  {
   "cell_type": "code",
   "execution_count": 176,
   "metadata": {},
   "outputs": [
    {
     "data": {
      "text/plain": [
       "'celica-gt-liftback'"
      ]
     },
     "execution_count": 176,
     "metadata": {},
     "output_type": "execute_result"
    }
   ],
   "source": [
    "model('toyota celica gt liftback')   # Here, column for Model is also generated as entire remaining CarName after Make column is generated"
   ]
  },
  {
   "cell_type": "code",
   "execution_count": 177,
   "metadata": {},
   "outputs": [],
   "source": [
    "data['Make'] = data['CarName'].apply(make)     # Lambda function on make is broadcast on entire CarName column"
   ]
  },
  {
   "cell_type": "code",
   "execution_count": 178,
   "metadata": {},
   "outputs": [],
   "source": [
    "data['Model'] = data['CarName'].apply(model)    # Lambda function on model is broadcast on entire CarName column"
   ]
  },
  {
   "cell_type": "code",
   "execution_count": 179,
   "metadata": {},
   "outputs": [
    {
     "data": {
      "text/plain": [
       "array(['alfa-romero', 'audi', 'bmw', 'chevrolet', 'dodge', 'honda',\n",
       "       'isuzu', 'jaguar', 'maxda', 'mazda', 'buick', 'mercury',\n",
       "       'mitsubishi', 'Nissan', 'nissan', 'peugeot', 'plymouth', 'porsche',\n",
       "       'porcshce', 'renault', 'saab', 'subaru', 'toyota', 'toyouta',\n",
       "       'vokswagen', 'volkswagen', 'vw', 'volvo'], dtype=object)"
      ]
     },
     "execution_count": 179,
     "metadata": {},
     "output_type": "execute_result"
    }
   ],
   "source": [
    "data['Make'].unique()"
   ]
  },
  {
   "cell_type": "code",
   "execution_count": 180,
   "metadata": {},
   "outputs": [
    {
     "data": {
      "text/plain": [
       "array(['giulia', 'stelvio', 'Quadrifoglio', '100-ls', '100ls', 'fox',\n",
       "       '5000', '4000', '5000s-(diesel)', '320i', 'x1', 'x3', 'z4', 'x4',\n",
       "       'x5', 'impala', 'monte-carlo', 'vega-2300', 'rampage',\n",
       "       'challenger-se', 'd200', 'monaco-(sw)', 'colt-hardtop',\n",
       "       'colt-(sw)', 'coronet-custom', 'dart-custom',\n",
       "       'coronet-custom-(sw)', 'civic', 'civic-cvcc', 'accord-cvcc',\n",
       "       'accord-lx', 'civic-1500-gl', 'accord', 'civic-1300', 'prelude',\n",
       "       'civic-(auto)', 'MU-X', 'D-Max', 'D-Max-V-Cross', 'xj', 'xf', 'xk',\n",
       "       'rx3', 'glc-deluxe', 'rx2-coupe', 'rx-4', '626', 'glc', 'rx-7-gs',\n",
       "       'glc-4', 'glc-custom-l', 'glc-custom', 'electra-225-custom',\n",
       "       'century-luxus-(sw)', 'century', 'skyhawk', 'opel-isuzu-deluxe',\n",
       "       'skylark', 'century-special', 'regal-sport-coupe-(turbo)',\n",
       "       'cougar', 'mirage', 'lancer', 'outlander', 'g4', 'mirage-g4',\n",
       "       'montero', 'pajero', 'versa', 'gt-r', 'rogue', 'latio', 'titan',\n",
       "       'leaf', 'juke', 'note', 'clipper', 'nv200', 'dayz', 'fuga', 'otti',\n",
       "       'teana', 'kicks', '504', '304', '504-(sw)', '604sl',\n",
       "       '505s-turbo-diesel', 'fury-iii', 'cricket',\n",
       "       'satellite-custom-(sw)', 'fury-gran-sedan', 'valiant', 'duster',\n",
       "       'macan', 'panamera', 'cayenne', 'boxter', '12tl', '5-gtl', '99e',\n",
       "       '99le', '99gle', '', 'dl', 'brz', 'baja', 'r1', 'r2', 'trezia',\n",
       "       'tribeca', 'corona-mark-ii', 'corona', 'corolla-1200',\n",
       "       'corona-hardtop', 'corolla-1600-(sw)', 'carina', 'mark-ii',\n",
       "       'corolla', 'corolla-liftback', 'celica-gt-liftback',\n",
       "       'corolla-tercel', 'corona-liftback', 'starlet', 'tercel',\n",
       "       'cressida', 'celica-gt', 'rabbit', '1131-deluxe-sedan',\n",
       "       'model-111', 'type-3', '411-(sw)', 'super-beetle', 'dasher',\n",
       "       'rabbit-custom', '145e-(sw)', '144ea', '244dl', '245', '264gl',\n",
       "       'diesel', '246'], dtype=object)"
      ]
     },
     "execution_count": 180,
     "metadata": {},
     "output_type": "execute_result"
    }
   ],
   "source": [
    "data['Model'].unique()"
   ]
  },
  {
   "cell_type": "code",
   "execution_count": 181,
   "metadata": {},
   "outputs": [
    {
     "data": {
      "text/plain": [
       "toyota         31\n",
       "nissan         17\n",
       "mazda          15\n",
       "mitsubishi     13\n",
       "honda          13\n",
       "subaru         12\n",
       "peugeot        11\n",
       "volvo          11\n",
       "dodge           9\n",
       "volkswagen      9\n",
       "buick           8\n",
       "bmw             8\n",
       "plymouth        7\n",
       "audi            7\n",
       "saab            6\n",
       "porsche         4\n",
       "isuzu           4\n",
       "jaguar          3\n",
       "chevrolet       3\n",
       "alfa-romero     3\n",
       "vw              2\n",
       "maxda           2\n",
       "renault         2\n",
       "Nissan          1\n",
       "vokswagen       1\n",
       "toyouta         1\n",
       "mercury         1\n",
       "porcshce        1\n",
       "Name: Make, dtype: int64"
      ]
     },
     "execution_count": 181,
     "metadata": {},
     "output_type": "execute_result"
    }
   ],
   "source": [
    "data['Make'].value_counts() #Numbers of individual cars before corrections"
   ]
  },
  {
   "cell_type": "code",
   "execution_count": 182,
   "metadata": {},
   "outputs": [],
   "source": [
    "data.Make = data.Make.str.lower() #Make names corrections\n",
    "\n",
    "def replace_name(a,b):\n",
    "    data.Make.replace(a,b,inplace=True)\n",
    "\n",
    "replace_name('maxda','mazda')\n",
    "replace_name('porcshce','porsche')\n",
    "replace_name('toyouta','toyota')\n",
    "replace_name('vokswagen','volkswagen')\n",
    "replace_name('vw','volkswagen')\n",
    "replace_name('alfa-romero', 'alfa-romeo')"
   ]
  },
  {
   "cell_type": "code",
   "execution_count": 183,
   "metadata": {},
   "outputs": [
    {
     "data": {
      "text/plain": [
       "toyota        32\n",
       "nissan        18\n",
       "mazda         17\n",
       "mitsubishi    13\n",
       "honda         13\n",
       "volkswagen    12\n",
       "subaru        12\n",
       "peugeot       11\n",
       "volvo         11\n",
       "dodge          9\n",
       "bmw            8\n",
       "buick          8\n",
       "audi           7\n",
       "plymouth       7\n",
       "saab           6\n",
       "porsche        5\n",
       "isuzu          4\n",
       "chevrolet      3\n",
       "jaguar         3\n",
       "alfa-romeo     3\n",
       "renault        2\n",
       "mercury        1\n",
       "Name: Make, dtype: int64"
      ]
     },
     "execution_count": 183,
     "metadata": {},
     "output_type": "execute_result"
    }
   ],
   "source": [
    "data['Make'].value_counts() #Numbers of individual car after corrections"
   ]
  },
  {
   "cell_type": "code",
   "execution_count": 184,
   "metadata": {},
   "outputs": [
    {
     "data": {
      "text/html": [
       "<div>\n",
       "<style scoped>\n",
       "    .dataframe tbody tr th:only-of-type {\n",
       "        vertical-align: middle;\n",
       "    }\n",
       "\n",
       "    .dataframe tbody tr th {\n",
       "        vertical-align: top;\n",
       "    }\n",
       "\n",
       "    .dataframe thead th {\n",
       "        text-align: right;\n",
       "    }\n",
       "</style>\n",
       "<table border=\"1\" class=\"dataframe\">\n",
       "  <thead>\n",
       "    <tr style=\"text-align: right;\">\n",
       "      <th></th>\n",
       "      <th>symboling</th>\n",
       "      <th>CarName</th>\n",
       "      <th>fueltype</th>\n",
       "      <th>aspiration</th>\n",
       "      <th>doornumber</th>\n",
       "      <th>carbody</th>\n",
       "      <th>drivewheel</th>\n",
       "      <th>enginelocation</th>\n",
       "      <th>wheelbase</th>\n",
       "      <th>carlength</th>\n",
       "      <th>carwidth</th>\n",
       "      <th>carheight</th>\n",
       "      <th>curbweight</th>\n",
       "      <th>enginetype</th>\n",
       "      <th>cylindernumber</th>\n",
       "      <th>enginesize</th>\n",
       "      <th>fuelsystem</th>\n",
       "      <th>boreratio</th>\n",
       "      <th>stroke</th>\n",
       "      <th>compressionratio</th>\n",
       "      <th>horsepower</th>\n",
       "      <th>peakrpm</th>\n",
       "      <th>citympg</th>\n",
       "      <th>highwaympg</th>\n",
       "      <th>price</th>\n",
       "      <th>Make</th>\n",
       "      <th>Model</th>\n",
       "    </tr>\n",
       "  </thead>\n",
       "  <tbody>\n",
       "    <tr>\n",
       "      <th>0</th>\n",
       "      <td>3</td>\n",
       "      <td>alfa-romero giulia</td>\n",
       "      <td>0</td>\n",
       "      <td>0</td>\n",
       "      <td>2</td>\n",
       "      <td>0</td>\n",
       "      <td>0</td>\n",
       "      <td>0</td>\n",
       "      <td>88.6</td>\n",
       "      <td>168.8</td>\n",
       "      <td>64.1</td>\n",
       "      <td>48.8</td>\n",
       "      <td>2548</td>\n",
       "      <td>0</td>\n",
       "      <td>4</td>\n",
       "      <td>130</td>\n",
       "      <td>0</td>\n",
       "      <td>3.47</td>\n",
       "      <td>2.68</td>\n",
       "      <td>9.0</td>\n",
       "      <td>111</td>\n",
       "      <td>5000</td>\n",
       "      <td>21</td>\n",
       "      <td>27</td>\n",
       "      <td>13495.0</td>\n",
       "      <td>alfa-romeo</td>\n",
       "      <td>giulia</td>\n",
       "    </tr>\n",
       "    <tr>\n",
       "      <th>1</th>\n",
       "      <td>3</td>\n",
       "      <td>alfa-romero stelvio</td>\n",
       "      <td>0</td>\n",
       "      <td>0</td>\n",
       "      <td>2</td>\n",
       "      <td>0</td>\n",
       "      <td>0</td>\n",
       "      <td>0</td>\n",
       "      <td>88.6</td>\n",
       "      <td>168.8</td>\n",
       "      <td>64.1</td>\n",
       "      <td>48.8</td>\n",
       "      <td>2548</td>\n",
       "      <td>0</td>\n",
       "      <td>4</td>\n",
       "      <td>130</td>\n",
       "      <td>0</td>\n",
       "      <td>3.47</td>\n",
       "      <td>2.68</td>\n",
       "      <td>9.0</td>\n",
       "      <td>111</td>\n",
       "      <td>5000</td>\n",
       "      <td>21</td>\n",
       "      <td>27</td>\n",
       "      <td>16500.0</td>\n",
       "      <td>alfa-romeo</td>\n",
       "      <td>stelvio</td>\n",
       "    </tr>\n",
       "    <tr>\n",
       "      <th>2</th>\n",
       "      <td>1</td>\n",
       "      <td>alfa-romero Quadrifoglio</td>\n",
       "      <td>0</td>\n",
       "      <td>0</td>\n",
       "      <td>2</td>\n",
       "      <td>1</td>\n",
       "      <td>0</td>\n",
       "      <td>0</td>\n",
       "      <td>94.5</td>\n",
       "      <td>171.2</td>\n",
       "      <td>65.5</td>\n",
       "      <td>52.4</td>\n",
       "      <td>2823</td>\n",
       "      <td>1</td>\n",
       "      <td>6</td>\n",
       "      <td>152</td>\n",
       "      <td>0</td>\n",
       "      <td>2.68</td>\n",
       "      <td>3.47</td>\n",
       "      <td>9.0</td>\n",
       "      <td>154</td>\n",
       "      <td>5000</td>\n",
       "      <td>19</td>\n",
       "      <td>26</td>\n",
       "      <td>16500.0</td>\n",
       "      <td>alfa-romeo</td>\n",
       "      <td>Quadrifoglio</td>\n",
       "    </tr>\n",
       "    <tr>\n",
       "      <th>3</th>\n",
       "      <td>2</td>\n",
       "      <td>audi 100 ls</td>\n",
       "      <td>0</td>\n",
       "      <td>0</td>\n",
       "      <td>4</td>\n",
       "      <td>2</td>\n",
       "      <td>1</td>\n",
       "      <td>0</td>\n",
       "      <td>99.8</td>\n",
       "      <td>176.6</td>\n",
       "      <td>66.2</td>\n",
       "      <td>54.3</td>\n",
       "      <td>2337</td>\n",
       "      <td>2</td>\n",
       "      <td>4</td>\n",
       "      <td>109</td>\n",
       "      <td>0</td>\n",
       "      <td>3.19</td>\n",
       "      <td>3.40</td>\n",
       "      <td>10.0</td>\n",
       "      <td>102</td>\n",
       "      <td>5500</td>\n",
       "      <td>24</td>\n",
       "      <td>30</td>\n",
       "      <td>13950.0</td>\n",
       "      <td>audi</td>\n",
       "      <td>100-ls</td>\n",
       "    </tr>\n",
       "    <tr>\n",
       "      <th>4</th>\n",
       "      <td>2</td>\n",
       "      <td>audi 100ls</td>\n",
       "      <td>0</td>\n",
       "      <td>0</td>\n",
       "      <td>4</td>\n",
       "      <td>2</td>\n",
       "      <td>2</td>\n",
       "      <td>0</td>\n",
       "      <td>99.4</td>\n",
       "      <td>176.6</td>\n",
       "      <td>66.4</td>\n",
       "      <td>54.3</td>\n",
       "      <td>2824</td>\n",
       "      <td>2</td>\n",
       "      <td>5</td>\n",
       "      <td>136</td>\n",
       "      <td>0</td>\n",
       "      <td>3.19</td>\n",
       "      <td>3.40</td>\n",
       "      <td>8.0</td>\n",
       "      <td>115</td>\n",
       "      <td>5500</td>\n",
       "      <td>18</td>\n",
       "      <td>22</td>\n",
       "      <td>17450.0</td>\n",
       "      <td>audi</td>\n",
       "      <td>100ls</td>\n",
       "    </tr>\n",
       "  </tbody>\n",
       "</table>\n",
       "</div>"
      ],
      "text/plain": [
       "   symboling                   CarName  fueltype  aspiration  doornumber  \\\n",
       "0          3        alfa-romero giulia         0           0           2   \n",
       "1          3       alfa-romero stelvio         0           0           2   \n",
       "2          1  alfa-romero Quadrifoglio         0           0           2   \n",
       "3          2               audi 100 ls         0           0           4   \n",
       "4          2                audi 100ls         0           0           4   \n",
       "\n",
       "   carbody  drivewheel  enginelocation  wheelbase  carlength  carwidth  \\\n",
       "0        0           0               0       88.6      168.8      64.1   \n",
       "1        0           0               0       88.6      168.8      64.1   \n",
       "2        1           0               0       94.5      171.2      65.5   \n",
       "3        2           1               0       99.8      176.6      66.2   \n",
       "4        2           2               0       99.4      176.6      66.4   \n",
       "\n",
       "   carheight  curbweight  enginetype  cylindernumber  enginesize  fuelsystem  \\\n",
       "0       48.8        2548           0               4         130           0   \n",
       "1       48.8        2548           0               4         130           0   \n",
       "2       52.4        2823           1               6         152           0   \n",
       "3       54.3        2337           2               4         109           0   \n",
       "4       54.3        2824           2               5         136           0   \n",
       "\n",
       "   boreratio  stroke  compressionratio  horsepower  peakrpm  citympg  \\\n",
       "0       3.47    2.68               9.0         111     5000       21   \n",
       "1       3.47    2.68               9.0         111     5000       21   \n",
       "2       2.68    3.47               9.0         154     5000       19   \n",
       "3       3.19    3.40              10.0         102     5500       24   \n",
       "4       3.19    3.40               8.0         115     5500       18   \n",
       "\n",
       "   highwaympg    price        Make         Model  \n",
       "0          27  13495.0  alfa-romeo        giulia  \n",
       "1          27  16500.0  alfa-romeo       stelvio  \n",
       "2          26  16500.0  alfa-romeo  Quadrifoglio  \n",
       "3          30  13950.0        audi        100-ls  \n",
       "4          22  17450.0        audi         100ls  "
      ]
     },
     "execution_count": 184,
     "metadata": {},
     "output_type": "execute_result"
    }
   ],
   "source": [
    "data.head()"
   ]
  },
  {
   "cell_type": "code",
   "execution_count": 185,
   "metadata": {},
   "outputs": [
    {
     "data": {
      "text/html": [
       "<div>\n",
       "<style scoped>\n",
       "    .dataframe tbody tr th:only-of-type {\n",
       "        vertical-align: middle;\n",
       "    }\n",
       "\n",
       "    .dataframe tbody tr th {\n",
       "        vertical-align: top;\n",
       "    }\n",
       "\n",
       "    .dataframe thead th {\n",
       "        text-align: right;\n",
       "    }\n",
       "</style>\n",
       "<table border=\"1\" class=\"dataframe\">\n",
       "  <thead>\n",
       "    <tr style=\"text-align: right;\">\n",
       "      <th></th>\n",
       "      <th>symboling</th>\n",
       "      <th>CarName</th>\n",
       "      <th>fueltype</th>\n",
       "      <th>aspiration</th>\n",
       "      <th>doornumber</th>\n",
       "      <th>carbody</th>\n",
       "      <th>drivewheel</th>\n",
       "      <th>enginelocation</th>\n",
       "      <th>wheelbase</th>\n",
       "      <th>carlength</th>\n",
       "      <th>carwidth</th>\n",
       "      <th>carheight</th>\n",
       "      <th>curbweight</th>\n",
       "      <th>enginetype</th>\n",
       "      <th>cylindernumber</th>\n",
       "      <th>enginesize</th>\n",
       "      <th>fuelsystem</th>\n",
       "      <th>boreratio</th>\n",
       "      <th>stroke</th>\n",
       "      <th>compressionratio</th>\n",
       "      <th>horsepower</th>\n",
       "      <th>peakrpm</th>\n",
       "      <th>citympg</th>\n",
       "      <th>highwaympg</th>\n",
       "      <th>price</th>\n",
       "      <th>Make</th>\n",
       "      <th>Model</th>\n",
       "    </tr>\n",
       "  </thead>\n",
       "  <tbody>\n",
       "    <tr>\n",
       "      <th>195</th>\n",
       "      <td>-1</td>\n",
       "      <td>volvo 144ea</td>\n",
       "      <td>0</td>\n",
       "      <td>0</td>\n",
       "      <td>4</td>\n",
       "      <td>3</td>\n",
       "      <td>0</td>\n",
       "      <td>0</td>\n",
       "      <td>104.3</td>\n",
       "      <td>188.8</td>\n",
       "      <td>67.2</td>\n",
       "      <td>57.5</td>\n",
       "      <td>3034</td>\n",
       "      <td>2</td>\n",
       "      <td>4</td>\n",
       "      <td>141</td>\n",
       "      <td>0</td>\n",
       "      <td>3.78</td>\n",
       "      <td>3.15</td>\n",
       "      <td>9.5</td>\n",
       "      <td>114</td>\n",
       "      <td>5400</td>\n",
       "      <td>23</td>\n",
       "      <td>28</td>\n",
       "      <td>13415.0</td>\n",
       "      <td>volvo</td>\n",
       "      <td>144ea</td>\n",
       "    </tr>\n",
       "    <tr>\n",
       "      <th>196</th>\n",
       "      <td>-2</td>\n",
       "      <td>volvo 244dl</td>\n",
       "      <td>0</td>\n",
       "      <td>0</td>\n",
       "      <td>4</td>\n",
       "      <td>2</td>\n",
       "      <td>0</td>\n",
       "      <td>0</td>\n",
       "      <td>104.3</td>\n",
       "      <td>188.8</td>\n",
       "      <td>67.2</td>\n",
       "      <td>56.2</td>\n",
       "      <td>2935</td>\n",
       "      <td>2</td>\n",
       "      <td>4</td>\n",
       "      <td>141</td>\n",
       "      <td>0</td>\n",
       "      <td>3.78</td>\n",
       "      <td>3.15</td>\n",
       "      <td>9.5</td>\n",
       "      <td>114</td>\n",
       "      <td>5400</td>\n",
       "      <td>24</td>\n",
       "      <td>28</td>\n",
       "      <td>15985.0</td>\n",
       "      <td>volvo</td>\n",
       "      <td>244dl</td>\n",
       "    </tr>\n",
       "    <tr>\n",
       "      <th>197</th>\n",
       "      <td>-1</td>\n",
       "      <td>volvo 245</td>\n",
       "      <td>0</td>\n",
       "      <td>0</td>\n",
       "      <td>4</td>\n",
       "      <td>3</td>\n",
       "      <td>0</td>\n",
       "      <td>0</td>\n",
       "      <td>104.3</td>\n",
       "      <td>188.8</td>\n",
       "      <td>67.2</td>\n",
       "      <td>57.5</td>\n",
       "      <td>3042</td>\n",
       "      <td>2</td>\n",
       "      <td>4</td>\n",
       "      <td>141</td>\n",
       "      <td>0</td>\n",
       "      <td>3.78</td>\n",
       "      <td>3.15</td>\n",
       "      <td>9.5</td>\n",
       "      <td>114</td>\n",
       "      <td>5400</td>\n",
       "      <td>24</td>\n",
       "      <td>28</td>\n",
       "      <td>16515.0</td>\n",
       "      <td>volvo</td>\n",
       "      <td>245</td>\n",
       "    </tr>\n",
       "    <tr>\n",
       "      <th>198</th>\n",
       "      <td>-2</td>\n",
       "      <td>volvo 264gl</td>\n",
       "      <td>0</td>\n",
       "      <td>1</td>\n",
       "      <td>4</td>\n",
       "      <td>2</td>\n",
       "      <td>0</td>\n",
       "      <td>0</td>\n",
       "      <td>104.3</td>\n",
       "      <td>188.8</td>\n",
       "      <td>67.2</td>\n",
       "      <td>56.2</td>\n",
       "      <td>3045</td>\n",
       "      <td>2</td>\n",
       "      <td>4</td>\n",
       "      <td>130</td>\n",
       "      <td>0</td>\n",
       "      <td>3.62</td>\n",
       "      <td>3.15</td>\n",
       "      <td>7.5</td>\n",
       "      <td>162</td>\n",
       "      <td>5100</td>\n",
       "      <td>17</td>\n",
       "      <td>22</td>\n",
       "      <td>18420.0</td>\n",
       "      <td>volvo</td>\n",
       "      <td>264gl</td>\n",
       "    </tr>\n",
       "    <tr>\n",
       "      <th>199</th>\n",
       "      <td>-1</td>\n",
       "      <td>volvo diesel</td>\n",
       "      <td>0</td>\n",
       "      <td>1</td>\n",
       "      <td>4</td>\n",
       "      <td>3</td>\n",
       "      <td>0</td>\n",
       "      <td>0</td>\n",
       "      <td>104.3</td>\n",
       "      <td>188.8</td>\n",
       "      <td>67.2</td>\n",
       "      <td>57.5</td>\n",
       "      <td>3157</td>\n",
       "      <td>2</td>\n",
       "      <td>4</td>\n",
       "      <td>130</td>\n",
       "      <td>0</td>\n",
       "      <td>3.62</td>\n",
       "      <td>3.15</td>\n",
       "      <td>7.5</td>\n",
       "      <td>162</td>\n",
       "      <td>5100</td>\n",
       "      <td>17</td>\n",
       "      <td>22</td>\n",
       "      <td>18950.0</td>\n",
       "      <td>volvo</td>\n",
       "      <td>diesel</td>\n",
       "    </tr>\n",
       "    <tr>\n",
       "      <th>200</th>\n",
       "      <td>-1</td>\n",
       "      <td>volvo 145e (sw)</td>\n",
       "      <td>0</td>\n",
       "      <td>0</td>\n",
       "      <td>4</td>\n",
       "      <td>2</td>\n",
       "      <td>0</td>\n",
       "      <td>0</td>\n",
       "      <td>109.1</td>\n",
       "      <td>188.8</td>\n",
       "      <td>68.9</td>\n",
       "      <td>55.5</td>\n",
       "      <td>2952</td>\n",
       "      <td>2</td>\n",
       "      <td>4</td>\n",
       "      <td>141</td>\n",
       "      <td>0</td>\n",
       "      <td>3.78</td>\n",
       "      <td>3.15</td>\n",
       "      <td>9.5</td>\n",
       "      <td>114</td>\n",
       "      <td>5400</td>\n",
       "      <td>23</td>\n",
       "      <td>28</td>\n",
       "      <td>16845.0</td>\n",
       "      <td>volvo</td>\n",
       "      <td>145e-(sw)</td>\n",
       "    </tr>\n",
       "    <tr>\n",
       "      <th>201</th>\n",
       "      <td>-1</td>\n",
       "      <td>volvo 144ea</td>\n",
       "      <td>0</td>\n",
       "      <td>1</td>\n",
       "      <td>4</td>\n",
       "      <td>2</td>\n",
       "      <td>0</td>\n",
       "      <td>0</td>\n",
       "      <td>109.1</td>\n",
       "      <td>188.8</td>\n",
       "      <td>68.8</td>\n",
       "      <td>55.5</td>\n",
       "      <td>3049</td>\n",
       "      <td>2</td>\n",
       "      <td>4</td>\n",
       "      <td>141</td>\n",
       "      <td>0</td>\n",
       "      <td>3.78</td>\n",
       "      <td>3.15</td>\n",
       "      <td>8.7</td>\n",
       "      <td>160</td>\n",
       "      <td>5300</td>\n",
       "      <td>19</td>\n",
       "      <td>25</td>\n",
       "      <td>19045.0</td>\n",
       "      <td>volvo</td>\n",
       "      <td>144ea</td>\n",
       "    </tr>\n",
       "    <tr>\n",
       "      <th>202</th>\n",
       "      <td>-1</td>\n",
       "      <td>volvo 244dl</td>\n",
       "      <td>0</td>\n",
       "      <td>0</td>\n",
       "      <td>4</td>\n",
       "      <td>2</td>\n",
       "      <td>0</td>\n",
       "      <td>0</td>\n",
       "      <td>109.1</td>\n",
       "      <td>188.8</td>\n",
       "      <td>68.9</td>\n",
       "      <td>55.5</td>\n",
       "      <td>3012</td>\n",
       "      <td>1</td>\n",
       "      <td>6</td>\n",
       "      <td>173</td>\n",
       "      <td>0</td>\n",
       "      <td>3.58</td>\n",
       "      <td>2.87</td>\n",
       "      <td>8.8</td>\n",
       "      <td>134</td>\n",
       "      <td>5500</td>\n",
       "      <td>18</td>\n",
       "      <td>23</td>\n",
       "      <td>21485.0</td>\n",
       "      <td>volvo</td>\n",
       "      <td>244dl</td>\n",
       "    </tr>\n",
       "    <tr>\n",
       "      <th>203</th>\n",
       "      <td>-1</td>\n",
       "      <td>volvo 246</td>\n",
       "      <td>1</td>\n",
       "      <td>1</td>\n",
       "      <td>4</td>\n",
       "      <td>2</td>\n",
       "      <td>0</td>\n",
       "      <td>0</td>\n",
       "      <td>109.1</td>\n",
       "      <td>188.8</td>\n",
       "      <td>68.9</td>\n",
       "      <td>55.5</td>\n",
       "      <td>3217</td>\n",
       "      <td>2</td>\n",
       "      <td>6</td>\n",
       "      <td>145</td>\n",
       "      <td>6</td>\n",
       "      <td>3.01</td>\n",
       "      <td>3.40</td>\n",
       "      <td>23.0</td>\n",
       "      <td>106</td>\n",
       "      <td>4800</td>\n",
       "      <td>26</td>\n",
       "      <td>27</td>\n",
       "      <td>22470.0</td>\n",
       "      <td>volvo</td>\n",
       "      <td>246</td>\n",
       "    </tr>\n",
       "    <tr>\n",
       "      <th>204</th>\n",
       "      <td>-1</td>\n",
       "      <td>volvo 264gl</td>\n",
       "      <td>0</td>\n",
       "      <td>1</td>\n",
       "      <td>4</td>\n",
       "      <td>2</td>\n",
       "      <td>0</td>\n",
       "      <td>0</td>\n",
       "      <td>109.1</td>\n",
       "      <td>188.8</td>\n",
       "      <td>68.9</td>\n",
       "      <td>55.5</td>\n",
       "      <td>3062</td>\n",
       "      <td>2</td>\n",
       "      <td>4</td>\n",
       "      <td>141</td>\n",
       "      <td>0</td>\n",
       "      <td>3.78</td>\n",
       "      <td>3.15</td>\n",
       "      <td>9.5</td>\n",
       "      <td>114</td>\n",
       "      <td>5400</td>\n",
       "      <td>19</td>\n",
       "      <td>25</td>\n",
       "      <td>22625.0</td>\n",
       "      <td>volvo</td>\n",
       "      <td>264gl</td>\n",
       "    </tr>\n",
       "  </tbody>\n",
       "</table>\n",
       "</div>"
      ],
      "text/plain": [
       "     symboling          CarName  fueltype  aspiration  doornumber  carbody  \\\n",
       "195         -1      volvo 144ea         0           0           4        3   \n",
       "196         -2      volvo 244dl         0           0           4        2   \n",
       "197         -1        volvo 245         0           0           4        3   \n",
       "198         -2      volvo 264gl         0           1           4        2   \n",
       "199         -1     volvo diesel         0           1           4        3   \n",
       "200         -1  volvo 145e (sw)         0           0           4        2   \n",
       "201         -1      volvo 144ea         0           1           4        2   \n",
       "202         -1      volvo 244dl         0           0           4        2   \n",
       "203         -1        volvo 246         1           1           4        2   \n",
       "204         -1      volvo 264gl         0           1           4        2   \n",
       "\n",
       "     drivewheel  enginelocation  wheelbase  carlength  carwidth  carheight  \\\n",
       "195           0               0      104.3      188.8      67.2       57.5   \n",
       "196           0               0      104.3      188.8      67.2       56.2   \n",
       "197           0               0      104.3      188.8      67.2       57.5   \n",
       "198           0               0      104.3      188.8      67.2       56.2   \n",
       "199           0               0      104.3      188.8      67.2       57.5   \n",
       "200           0               0      109.1      188.8      68.9       55.5   \n",
       "201           0               0      109.1      188.8      68.8       55.5   \n",
       "202           0               0      109.1      188.8      68.9       55.5   \n",
       "203           0               0      109.1      188.8      68.9       55.5   \n",
       "204           0               0      109.1      188.8      68.9       55.5   \n",
       "\n",
       "     curbweight  enginetype  cylindernumber  enginesize  fuelsystem  \\\n",
       "195        3034           2               4         141           0   \n",
       "196        2935           2               4         141           0   \n",
       "197        3042           2               4         141           0   \n",
       "198        3045           2               4         130           0   \n",
       "199        3157           2               4         130           0   \n",
       "200        2952           2               4         141           0   \n",
       "201        3049           2               4         141           0   \n",
       "202        3012           1               6         173           0   \n",
       "203        3217           2               6         145           6   \n",
       "204        3062           2               4         141           0   \n",
       "\n",
       "     boreratio  stroke  compressionratio  horsepower  peakrpm  citympg  \\\n",
       "195       3.78    3.15               9.5         114     5400       23   \n",
       "196       3.78    3.15               9.5         114     5400       24   \n",
       "197       3.78    3.15               9.5         114     5400       24   \n",
       "198       3.62    3.15               7.5         162     5100       17   \n",
       "199       3.62    3.15               7.5         162     5100       17   \n",
       "200       3.78    3.15               9.5         114     5400       23   \n",
       "201       3.78    3.15               8.7         160     5300       19   \n",
       "202       3.58    2.87               8.8         134     5500       18   \n",
       "203       3.01    3.40              23.0         106     4800       26   \n",
       "204       3.78    3.15               9.5         114     5400       19   \n",
       "\n",
       "     highwaympg    price   Make      Model  \n",
       "195          28  13415.0  volvo      144ea  \n",
       "196          28  15985.0  volvo      244dl  \n",
       "197          28  16515.0  volvo        245  \n",
       "198          22  18420.0  volvo      264gl  \n",
       "199          22  18950.0  volvo     diesel  \n",
       "200          28  16845.0  volvo  145e-(sw)  \n",
       "201          25  19045.0  volvo      144ea  \n",
       "202          23  21485.0  volvo      244dl  \n",
       "203          27  22470.0  volvo        246  \n",
       "204          25  22625.0  volvo      264gl  "
      ]
     },
     "execution_count": 185,
     "metadata": {},
     "output_type": "execute_result"
    }
   ],
   "source": [
    "data.tail(10)"
   ]
  },
  {
   "cell_type": "markdown",
   "metadata": {},
   "source": [
    "\n",
    ">Correlation analysis is a statistical method used to evaluate the strength of relationship between two quantitative variables.\n",
    ">A high correlation means that two or more variables have a strong relationship with each other, \n",
    ">while a weak correlation means that the variables are hardly related."
   ]
  },
  {
   "cell_type": "code",
   "execution_count": 186,
   "metadata": {},
   "outputs": [
    {
     "data": {
      "text/html": [
       "<div>\n",
       "<style scoped>\n",
       "    .dataframe tbody tr th:only-of-type {\n",
       "        vertical-align: middle;\n",
       "    }\n",
       "\n",
       "    .dataframe tbody tr th {\n",
       "        vertical-align: top;\n",
       "    }\n",
       "\n",
       "    .dataframe thead th {\n",
       "        text-align: right;\n",
       "    }\n",
       "</style>\n",
       "<table border=\"1\" class=\"dataframe\">\n",
       "  <thead>\n",
       "    <tr style=\"text-align: right;\">\n",
       "      <th></th>\n",
       "      <th>symboling</th>\n",
       "      <th>fueltype</th>\n",
       "      <th>aspiration</th>\n",
       "      <th>doornumber</th>\n",
       "      <th>carbody</th>\n",
       "      <th>drivewheel</th>\n",
       "      <th>enginelocation</th>\n",
       "      <th>wheelbase</th>\n",
       "      <th>carlength</th>\n",
       "      <th>carwidth</th>\n",
       "      <th>carheight</th>\n",
       "      <th>curbweight</th>\n",
       "      <th>enginetype</th>\n",
       "      <th>cylindernumber</th>\n",
       "      <th>enginesize</th>\n",
       "      <th>fuelsystem</th>\n",
       "      <th>boreratio</th>\n",
       "      <th>stroke</th>\n",
       "      <th>compressionratio</th>\n",
       "      <th>horsepower</th>\n",
       "      <th>peakrpm</th>\n",
       "      <th>citympg</th>\n",
       "      <th>highwaympg</th>\n",
       "      <th>price</th>\n",
       "    </tr>\n",
       "  </thead>\n",
       "  <tbody>\n",
       "    <tr>\n",
       "      <th>symboling</th>\n",
       "      <td>1.000000</td>\n",
       "      <td>-0.194311</td>\n",
       "      <td>-0.059866</td>\n",
       "      <td>-0.664073</td>\n",
       "      <td>-0.398970</td>\n",
       "      <td>0.041671</td>\n",
       "      <td>0.212471</td>\n",
       "      <td>-0.531954</td>\n",
       "      <td>-0.357612</td>\n",
       "      <td>-0.232919</td>\n",
       "      <td>-0.541038</td>\n",
       "      <td>-0.227691</td>\n",
       "      <td>0.015797</td>\n",
       "      <td>-0.113129</td>\n",
       "      <td>-0.105790</td>\n",
       "      <td>0.016678</td>\n",
       "      <td>-0.130051</td>\n",
       "      <td>-0.008735</td>\n",
       "      <td>-0.178515</td>\n",
       "      <td>0.070873</td>\n",
       "      <td>0.273606</td>\n",
       "      <td>-0.035823</td>\n",
       "      <td>0.034606</td>\n",
       "      <td>-0.079978</td>\n",
       "    </tr>\n",
       "    <tr>\n",
       "      <th>fueltype</th>\n",
       "      <td>-0.194311</td>\n",
       "      <td>1.000000</td>\n",
       "      <td>0.401397</td>\n",
       "      <td>0.191491</td>\n",
       "      <td>0.157580</td>\n",
       "      <td>-0.132257</td>\n",
       "      <td>-0.040070</td>\n",
       "      <td>0.308346</td>\n",
       "      <td>0.212679</td>\n",
       "      <td>0.233880</td>\n",
       "      <td>0.284631</td>\n",
       "      <td>0.217275</td>\n",
       "      <td>0.028837</td>\n",
       "      <td>-0.024544</td>\n",
       "      <td>0.069594</td>\n",
       "      <td>0.682404</td>\n",
       "      <td>0.054451</td>\n",
       "      <td>0.241829</td>\n",
       "      <td>0.984356</td>\n",
       "      <td>-0.163926</td>\n",
       "      <td>-0.476883</td>\n",
       "      <td>0.255963</td>\n",
       "      <td>0.191392</td>\n",
       "      <td>0.105679</td>\n",
       "    </tr>\n",
       "    <tr>\n",
       "      <th>aspiration</th>\n",
       "      <td>-0.059866</td>\n",
       "      <td>0.401397</td>\n",
       "      <td>1.000000</td>\n",
       "      <td>0.031792</td>\n",
       "      <td>0.021276</td>\n",
       "      <td>-0.066465</td>\n",
       "      <td>-0.057191</td>\n",
       "      <td>0.257611</td>\n",
       "      <td>0.234539</td>\n",
       "      <td>0.300567</td>\n",
       "      <td>0.087311</td>\n",
       "      <td>0.324902</td>\n",
       "      <td>0.014505</td>\n",
       "      <td>-0.047972</td>\n",
       "      <td>0.108217</td>\n",
       "      <td>0.473355</td>\n",
       "      <td>0.212614</td>\n",
       "      <td>0.222982</td>\n",
       "      <td>0.295541</td>\n",
       "      <td>0.241685</td>\n",
       "      <td>-0.183383</td>\n",
       "      <td>-0.202362</td>\n",
       "      <td>-0.254416</td>\n",
       "      <td>0.177926</td>\n",
       "    </tr>\n",
       "    <tr>\n",
       "      <th>doornumber</th>\n",
       "      <td>-0.664073</td>\n",
       "      <td>0.191491</td>\n",
       "      <td>0.031792</td>\n",
       "      <td>1.000000</td>\n",
       "      <td>0.447534</td>\n",
       "      <td>0.098954</td>\n",
       "      <td>-0.137757</td>\n",
       "      <td>0.447357</td>\n",
       "      <td>0.398568</td>\n",
       "      <td>0.207168</td>\n",
       "      <td>0.552208</td>\n",
       "      <td>0.197379</td>\n",
       "      <td>0.037170</td>\n",
       "      <td>-0.016009</td>\n",
       "      <td>0.020742</td>\n",
       "      <td>-0.017936</td>\n",
       "      <td>0.119258</td>\n",
       "      <td>-0.011082</td>\n",
       "      <td>0.177888</td>\n",
       "      <td>-0.126947</td>\n",
       "      <td>-0.247668</td>\n",
       "      <td>-0.012417</td>\n",
       "      <td>-0.036330</td>\n",
       "      <td>0.031835</td>\n",
       "    </tr>\n",
       "    <tr>\n",
       "      <th>carbody</th>\n",
       "      <td>-0.398970</td>\n",
       "      <td>0.157580</td>\n",
       "      <td>0.021276</td>\n",
       "      <td>0.447534</td>\n",
       "      <td>1.000000</td>\n",
       "      <td>-0.056886</td>\n",
       "      <td>0.126546</td>\n",
       "      <td>0.368772</td>\n",
       "      <td>0.376842</td>\n",
       "      <td>0.191511</td>\n",
       "      <td>0.483675</td>\n",
       "      <td>0.240367</td>\n",
       "      <td>0.127736</td>\n",
       "      <td>0.106245</td>\n",
       "      <td>0.172381</td>\n",
       "      <td>-0.054724</td>\n",
       "      <td>0.224976</td>\n",
       "      <td>0.000598</td>\n",
       "      <td>0.156686</td>\n",
       "      <td>0.047234</td>\n",
       "      <td>-0.147031</td>\n",
       "      <td>-0.095826</td>\n",
       "      <td>-0.126939</td>\n",
       "      <td>0.161294</td>\n",
       "    </tr>\n",
       "    <tr>\n",
       "      <th>drivewheel</th>\n",
       "      <td>0.041671</td>\n",
       "      <td>-0.132257</td>\n",
       "      <td>-0.066465</td>\n",
       "      <td>0.098954</td>\n",
       "      <td>-0.056886</td>\n",
       "      <td>1.000000</td>\n",
       "      <td>-0.147865</td>\n",
       "      <td>-0.459745</td>\n",
       "      <td>-0.485649</td>\n",
       "      <td>-0.470751</td>\n",
       "      <td>0.019719</td>\n",
       "      <td>-0.575111</td>\n",
       "      <td>0.192637</td>\n",
       "      <td>-0.314006</td>\n",
       "      <td>-0.524307</td>\n",
       "      <td>0.036437</td>\n",
       "      <td>-0.481827</td>\n",
       "      <td>-0.071591</td>\n",
       "      <td>-0.127479</td>\n",
       "      <td>-0.518686</td>\n",
       "      <td>0.039417</td>\n",
       "      <td>0.449581</td>\n",
       "      <td>0.452220</td>\n",
       "      <td>-0.577992</td>\n",
       "    </tr>\n",
       "    <tr>\n",
       "      <th>enginelocation</th>\n",
       "      <td>0.212471</td>\n",
       "      <td>-0.040070</td>\n",
       "      <td>-0.057191</td>\n",
       "      <td>-0.137757</td>\n",
       "      <td>0.126546</td>\n",
       "      <td>-0.147865</td>\n",
       "      <td>1.000000</td>\n",
       "      <td>-0.187790</td>\n",
       "      <td>-0.050989</td>\n",
       "      <td>-0.051698</td>\n",
       "      <td>-0.106234</td>\n",
       "      <td>0.050468</td>\n",
       "      <td>0.323697</td>\n",
       "      <td>0.183048</td>\n",
       "      <td>0.196826</td>\n",
       "      <td>-0.082672</td>\n",
       "      <td>0.185042</td>\n",
       "      <td>-0.138455</td>\n",
       "      <td>-0.019762</td>\n",
       "      <td>0.317839</td>\n",
       "      <td>0.198461</td>\n",
       "      <td>-0.153487</td>\n",
       "      <td>-0.102026</td>\n",
       "      <td>0.324973</td>\n",
       "    </tr>\n",
       "    <tr>\n",
       "      <th>wheelbase</th>\n",
       "      <td>-0.531954</td>\n",
       "      <td>0.308346</td>\n",
       "      <td>0.257611</td>\n",
       "      <td>0.447357</td>\n",
       "      <td>0.368772</td>\n",
       "      <td>-0.459745</td>\n",
       "      <td>-0.187790</td>\n",
       "      <td>1.000000</td>\n",
       "      <td>0.874587</td>\n",
       "      <td>0.795144</td>\n",
       "      <td>0.589435</td>\n",
       "      <td>0.776386</td>\n",
       "      <td>-0.136452</td>\n",
       "      <td>0.339507</td>\n",
       "      <td>0.569329</td>\n",
       "      <td>0.004828</td>\n",
       "      <td>0.488750</td>\n",
       "      <td>0.160959</td>\n",
       "      <td>0.249786</td>\n",
       "      <td>0.353294</td>\n",
       "      <td>-0.360469</td>\n",
       "      <td>-0.470414</td>\n",
       "      <td>-0.544082</td>\n",
       "      <td>0.577816</td>\n",
       "    </tr>\n",
       "    <tr>\n",
       "      <th>carlength</th>\n",
       "      <td>-0.357612</td>\n",
       "      <td>0.212679</td>\n",
       "      <td>0.234539</td>\n",
       "      <td>0.398568</td>\n",
       "      <td>0.376842</td>\n",
       "      <td>-0.485649</td>\n",
       "      <td>-0.050989</td>\n",
       "      <td>0.874587</td>\n",
       "      <td>1.000000</td>\n",
       "      <td>0.841118</td>\n",
       "      <td>0.491029</td>\n",
       "      <td>0.877728</td>\n",
       "      <td>-0.172093</td>\n",
       "      <td>0.430672</td>\n",
       "      <td>0.683360</td>\n",
       "      <td>-0.090618</td>\n",
       "      <td>0.606454</td>\n",
       "      <td>0.129533</td>\n",
       "      <td>0.158414</td>\n",
       "      <td>0.552623</td>\n",
       "      <td>-0.287242</td>\n",
       "      <td>-0.670909</td>\n",
       "      <td>-0.704662</td>\n",
       "      <td>0.682920</td>\n",
       "    </tr>\n",
       "    <tr>\n",
       "      <th>carwidth</th>\n",
       "      <td>-0.232919</td>\n",
       "      <td>0.233880</td>\n",
       "      <td>0.300567</td>\n",
       "      <td>0.207168</td>\n",
       "      <td>0.191511</td>\n",
       "      <td>-0.470751</td>\n",
       "      <td>-0.051698</td>\n",
       "      <td>0.795144</td>\n",
       "      <td>0.841118</td>\n",
       "      <td>1.000000</td>\n",
       "      <td>0.279210</td>\n",
       "      <td>0.867032</td>\n",
       "      <td>-0.098253</td>\n",
       "      <td>0.545007</td>\n",
       "      <td>0.735433</td>\n",
       "      <td>-0.017121</td>\n",
       "      <td>0.559150</td>\n",
       "      <td>0.182942</td>\n",
       "      <td>0.181129</td>\n",
       "      <td>0.640732</td>\n",
       "      <td>-0.220012</td>\n",
       "      <td>-0.642704</td>\n",
       "      <td>-0.677218</td>\n",
       "      <td>0.759325</td>\n",
       "    </tr>\n",
       "    <tr>\n",
       "      <th>carheight</th>\n",
       "      <td>-0.541038</td>\n",
       "      <td>0.284631</td>\n",
       "      <td>0.087311</td>\n",
       "      <td>0.552208</td>\n",
       "      <td>0.483675</td>\n",
       "      <td>0.019719</td>\n",
       "      <td>-0.106234</td>\n",
       "      <td>0.589435</td>\n",
       "      <td>0.491029</td>\n",
       "      <td>0.279210</td>\n",
       "      <td>1.000000</td>\n",
       "      <td>0.295572</td>\n",
       "      <td>0.009540</td>\n",
       "      <td>-0.013995</td>\n",
       "      <td>0.067149</td>\n",
       "      <td>-0.050644</td>\n",
       "      <td>0.171071</td>\n",
       "      <td>-0.055307</td>\n",
       "      <td>0.261214</td>\n",
       "      <td>-0.108802</td>\n",
       "      <td>-0.320411</td>\n",
       "      <td>-0.048640</td>\n",
       "      <td>-0.107358</td>\n",
       "      <td>0.119336</td>\n",
       "    </tr>\n",
       "    <tr>\n",
       "      <th>curbweight</th>\n",
       "      <td>-0.227691</td>\n",
       "      <td>0.217275</td>\n",
       "      <td>0.324902</td>\n",
       "      <td>0.197379</td>\n",
       "      <td>0.240367</td>\n",
       "      <td>-0.575111</td>\n",
       "      <td>0.050468</td>\n",
       "      <td>0.776386</td>\n",
       "      <td>0.877728</td>\n",
       "      <td>0.867032</td>\n",
       "      <td>0.295572</td>\n",
       "      <td>1.000000</td>\n",
       "      <td>-0.165371</td>\n",
       "      <td>0.609727</td>\n",
       "      <td>0.850594</td>\n",
       "      <td>-0.026356</td>\n",
       "      <td>0.648480</td>\n",
       "      <td>0.168790</td>\n",
       "      <td>0.151362</td>\n",
       "      <td>0.750739</td>\n",
       "      <td>-0.266243</td>\n",
       "      <td>-0.757414</td>\n",
       "      <td>-0.797465</td>\n",
       "      <td>0.835305</td>\n",
       "    </tr>\n",
       "    <tr>\n",
       "      <th>enginetype</th>\n",
       "      <td>0.015797</td>\n",
       "      <td>0.028837</td>\n",
       "      <td>0.014505</td>\n",
       "      <td>0.037170</td>\n",
       "      <td>0.127736</td>\n",
       "      <td>0.192637</td>\n",
       "      <td>0.323697</td>\n",
       "      <td>-0.136452</td>\n",
       "      <td>-0.172093</td>\n",
       "      <td>-0.098253</td>\n",
       "      <td>0.009540</td>\n",
       "      <td>-0.165371</td>\n",
       "      <td>1.000000</td>\n",
       "      <td>-0.250047</td>\n",
       "      <td>-0.230979</td>\n",
       "      <td>0.078839</td>\n",
       "      <td>0.262516</td>\n",
       "      <td>-0.408125</td>\n",
       "      <td>0.030285</td>\n",
       "      <td>-0.103685</td>\n",
       "      <td>-0.055094</td>\n",
       "      <td>0.064209</td>\n",
       "      <td>0.078233</td>\n",
       "      <td>-0.092841</td>\n",
       "    </tr>\n",
       "    <tr>\n",
       "      <th>cylindernumber</th>\n",
       "      <td>-0.113129</td>\n",
       "      <td>-0.024544</td>\n",
       "      <td>-0.047972</td>\n",
       "      <td>-0.016009</td>\n",
       "      <td>0.106245</td>\n",
       "      <td>-0.314006</td>\n",
       "      <td>0.183048</td>\n",
       "      <td>0.339507</td>\n",
       "      <td>0.430672</td>\n",
       "      <td>0.545007</td>\n",
       "      <td>-0.013995</td>\n",
       "      <td>0.609727</td>\n",
       "      <td>-0.250047</td>\n",
       "      <td>1.000000</td>\n",
       "      <td>0.846031</td>\n",
       "      <td>-0.229010</td>\n",
       "      <td>0.231399</td>\n",
       "      <td>0.008210</td>\n",
       "      <td>-0.020002</td>\n",
       "      <td>0.692016</td>\n",
       "      <td>-0.124172</td>\n",
       "      <td>-0.445837</td>\n",
       "      <td>-0.466666</td>\n",
       "      <td>0.718305</td>\n",
       "    </tr>\n",
       "    <tr>\n",
       "      <th>enginesize</th>\n",
       "      <td>-0.105790</td>\n",
       "      <td>0.069594</td>\n",
       "      <td>0.108217</td>\n",
       "      <td>0.020742</td>\n",
       "      <td>0.172381</td>\n",
       "      <td>-0.524307</td>\n",
       "      <td>0.196826</td>\n",
       "      <td>0.569329</td>\n",
       "      <td>0.683360</td>\n",
       "      <td>0.735433</td>\n",
       "      <td>0.067149</td>\n",
       "      <td>0.850594</td>\n",
       "      <td>-0.230979</td>\n",
       "      <td>0.846031</td>\n",
       "      <td>1.000000</td>\n",
       "      <td>-0.132202</td>\n",
       "      <td>0.583774</td>\n",
       "      <td>0.203129</td>\n",
       "      <td>0.028971</td>\n",
       "      <td>0.809769</td>\n",
       "      <td>-0.244660</td>\n",
       "      <td>-0.653658</td>\n",
       "      <td>-0.677470</td>\n",
       "      <td>0.874145</td>\n",
       "    </tr>\n",
       "    <tr>\n",
       "      <th>fuelsystem</th>\n",
       "      <td>0.016678</td>\n",
       "      <td>0.682404</td>\n",
       "      <td>0.473355</td>\n",
       "      <td>-0.017936</td>\n",
       "      <td>-0.054724</td>\n",
       "      <td>0.036437</td>\n",
       "      <td>-0.082672</td>\n",
       "      <td>0.004828</td>\n",
       "      <td>-0.090618</td>\n",
       "      <td>-0.017121</td>\n",
       "      <td>-0.050644</td>\n",
       "      <td>-0.026356</td>\n",
       "      <td>0.078839</td>\n",
       "      <td>-0.229010</td>\n",
       "      <td>-0.132202</td>\n",
       "      <td>1.000000</td>\n",
       "      <td>-0.116891</td>\n",
       "      <td>0.364888</td>\n",
       "      <td>0.635120</td>\n",
       "      <td>-0.225575</td>\n",
       "      <td>-0.206149</td>\n",
       "      <td>0.261582</td>\n",
       "      <td>0.217181</td>\n",
       "      <td>-0.122118</td>\n",
       "    </tr>\n",
       "    <tr>\n",
       "      <th>boreratio</th>\n",
       "      <td>-0.130051</td>\n",
       "      <td>0.054451</td>\n",
       "      <td>0.212614</td>\n",
       "      <td>0.119258</td>\n",
       "      <td>0.224976</td>\n",
       "      <td>-0.481827</td>\n",
       "      <td>0.185042</td>\n",
       "      <td>0.488750</td>\n",
       "      <td>0.606454</td>\n",
       "      <td>0.559150</td>\n",
       "      <td>0.171071</td>\n",
       "      <td>0.648480</td>\n",
       "      <td>0.262516</td>\n",
       "      <td>0.231399</td>\n",
       "      <td>0.583774</td>\n",
       "      <td>-0.116891</td>\n",
       "      <td>1.000000</td>\n",
       "      <td>-0.055909</td>\n",
       "      <td>0.005197</td>\n",
       "      <td>0.573677</td>\n",
       "      <td>-0.254976</td>\n",
       "      <td>-0.584532</td>\n",
       "      <td>-0.587012</td>\n",
       "      <td>0.553173</td>\n",
       "    </tr>\n",
       "    <tr>\n",
       "      <th>stroke</th>\n",
       "      <td>-0.008735</td>\n",
       "      <td>0.241829</td>\n",
       "      <td>0.222982</td>\n",
       "      <td>-0.011082</td>\n",
       "      <td>0.000598</td>\n",
       "      <td>-0.071591</td>\n",
       "      <td>-0.138455</td>\n",
       "      <td>0.160959</td>\n",
       "      <td>0.129533</td>\n",
       "      <td>0.182942</td>\n",
       "      <td>-0.055307</td>\n",
       "      <td>0.168790</td>\n",
       "      <td>-0.408125</td>\n",
       "      <td>0.008210</td>\n",
       "      <td>0.203129</td>\n",
       "      <td>0.364888</td>\n",
       "      <td>-0.055909</td>\n",
       "      <td>1.000000</td>\n",
       "      <td>0.186110</td>\n",
       "      <td>0.080940</td>\n",
       "      <td>-0.067964</td>\n",
       "      <td>-0.042145</td>\n",
       "      <td>-0.043931</td>\n",
       "      <td>0.079443</td>\n",
       "    </tr>\n",
       "    <tr>\n",
       "      <th>compressionratio</th>\n",
       "      <td>-0.178515</td>\n",
       "      <td>0.984356</td>\n",
       "      <td>0.295541</td>\n",
       "      <td>0.177888</td>\n",
       "      <td>0.156686</td>\n",
       "      <td>-0.127479</td>\n",
       "      <td>-0.019762</td>\n",
       "      <td>0.249786</td>\n",
       "      <td>0.158414</td>\n",
       "      <td>0.181129</td>\n",
       "      <td>0.261214</td>\n",
       "      <td>0.151362</td>\n",
       "      <td>0.030285</td>\n",
       "      <td>-0.020002</td>\n",
       "      <td>0.028971</td>\n",
       "      <td>0.635120</td>\n",
       "      <td>0.005197</td>\n",
       "      <td>0.186110</td>\n",
       "      <td>1.000000</td>\n",
       "      <td>-0.204326</td>\n",
       "      <td>-0.435741</td>\n",
       "      <td>0.324701</td>\n",
       "      <td>0.265201</td>\n",
       "      <td>0.067984</td>\n",
       "    </tr>\n",
       "    <tr>\n",
       "      <th>horsepower</th>\n",
       "      <td>0.070873</td>\n",
       "      <td>-0.163926</td>\n",
       "      <td>0.241685</td>\n",
       "      <td>-0.126947</td>\n",
       "      <td>0.047234</td>\n",
       "      <td>-0.518686</td>\n",
       "      <td>0.317839</td>\n",
       "      <td>0.353294</td>\n",
       "      <td>0.552623</td>\n",
       "      <td>0.640732</td>\n",
       "      <td>-0.108802</td>\n",
       "      <td>0.750739</td>\n",
       "      <td>-0.103685</td>\n",
       "      <td>0.692016</td>\n",
       "      <td>0.809769</td>\n",
       "      <td>-0.225575</td>\n",
       "      <td>0.573677</td>\n",
       "      <td>0.080940</td>\n",
       "      <td>-0.204326</td>\n",
       "      <td>1.000000</td>\n",
       "      <td>0.131073</td>\n",
       "      <td>-0.801456</td>\n",
       "      <td>-0.770544</td>\n",
       "      <td>0.808139</td>\n",
       "    </tr>\n",
       "    <tr>\n",
       "      <th>peakrpm</th>\n",
       "      <td>0.273606</td>\n",
       "      <td>-0.476883</td>\n",
       "      <td>-0.183383</td>\n",
       "      <td>-0.247668</td>\n",
       "      <td>-0.147031</td>\n",
       "      <td>0.039417</td>\n",
       "      <td>0.198461</td>\n",
       "      <td>-0.360469</td>\n",
       "      <td>-0.287242</td>\n",
       "      <td>-0.220012</td>\n",
       "      <td>-0.320411</td>\n",
       "      <td>-0.266243</td>\n",
       "      <td>-0.055094</td>\n",
       "      <td>-0.124172</td>\n",
       "      <td>-0.244660</td>\n",
       "      <td>-0.206149</td>\n",
       "      <td>-0.254976</td>\n",
       "      <td>-0.067964</td>\n",
       "      <td>-0.435741</td>\n",
       "      <td>0.131073</td>\n",
       "      <td>1.000000</td>\n",
       "      <td>-0.113544</td>\n",
       "      <td>-0.054275</td>\n",
       "      <td>-0.085267</td>\n",
       "    </tr>\n",
       "    <tr>\n",
       "      <th>citympg</th>\n",
       "      <td>-0.035823</td>\n",
       "      <td>0.255963</td>\n",
       "      <td>-0.202362</td>\n",
       "      <td>-0.012417</td>\n",
       "      <td>-0.095826</td>\n",
       "      <td>0.449581</td>\n",
       "      <td>-0.153487</td>\n",
       "      <td>-0.470414</td>\n",
       "      <td>-0.670909</td>\n",
       "      <td>-0.642704</td>\n",
       "      <td>-0.048640</td>\n",
       "      <td>-0.757414</td>\n",
       "      <td>0.064209</td>\n",
       "      <td>-0.445837</td>\n",
       "      <td>-0.653658</td>\n",
       "      <td>0.261582</td>\n",
       "      <td>-0.584532</td>\n",
       "      <td>-0.042145</td>\n",
       "      <td>0.324701</td>\n",
       "      <td>-0.801456</td>\n",
       "      <td>-0.113544</td>\n",
       "      <td>1.000000</td>\n",
       "      <td>0.971337</td>\n",
       "      <td>-0.685751</td>\n",
       "    </tr>\n",
       "    <tr>\n",
       "      <th>highwaympg</th>\n",
       "      <td>0.034606</td>\n",
       "      <td>0.191392</td>\n",
       "      <td>-0.254416</td>\n",
       "      <td>-0.036330</td>\n",
       "      <td>-0.126939</td>\n",
       "      <td>0.452220</td>\n",
       "      <td>-0.102026</td>\n",
       "      <td>-0.544082</td>\n",
       "      <td>-0.704662</td>\n",
       "      <td>-0.677218</td>\n",
       "      <td>-0.107358</td>\n",
       "      <td>-0.797465</td>\n",
       "      <td>0.078233</td>\n",
       "      <td>-0.466666</td>\n",
       "      <td>-0.677470</td>\n",
       "      <td>0.217181</td>\n",
       "      <td>-0.587012</td>\n",
       "      <td>-0.043931</td>\n",
       "      <td>0.265201</td>\n",
       "      <td>-0.770544</td>\n",
       "      <td>-0.054275</td>\n",
       "      <td>0.971337</td>\n",
       "      <td>1.000000</td>\n",
       "      <td>-0.697599</td>\n",
       "    </tr>\n",
       "    <tr>\n",
       "      <th>price</th>\n",
       "      <td>-0.079978</td>\n",
       "      <td>0.105679</td>\n",
       "      <td>0.177926</td>\n",
       "      <td>0.031835</td>\n",
       "      <td>0.161294</td>\n",
       "      <td>-0.577992</td>\n",
       "      <td>0.324973</td>\n",
       "      <td>0.577816</td>\n",
       "      <td>0.682920</td>\n",
       "      <td>0.759325</td>\n",
       "      <td>0.119336</td>\n",
       "      <td>0.835305</td>\n",
       "      <td>-0.092841</td>\n",
       "      <td>0.718305</td>\n",
       "      <td>0.874145</td>\n",
       "      <td>-0.122118</td>\n",
       "      <td>0.553173</td>\n",
       "      <td>0.079443</td>\n",
       "      <td>0.067984</td>\n",
       "      <td>0.808139</td>\n",
       "      <td>-0.085267</td>\n",
       "      <td>-0.685751</td>\n",
       "      <td>-0.697599</td>\n",
       "      <td>1.000000</td>\n",
       "    </tr>\n",
       "  </tbody>\n",
       "</table>\n",
       "</div>"
      ],
      "text/plain": [
       "                  symboling  fueltype  aspiration  doornumber   carbody  \\\n",
       "symboling          1.000000 -0.194311   -0.059866   -0.664073 -0.398970   \n",
       "fueltype          -0.194311  1.000000    0.401397    0.191491  0.157580   \n",
       "aspiration        -0.059866  0.401397    1.000000    0.031792  0.021276   \n",
       "doornumber        -0.664073  0.191491    0.031792    1.000000  0.447534   \n",
       "carbody           -0.398970  0.157580    0.021276    0.447534  1.000000   \n",
       "drivewheel         0.041671 -0.132257   -0.066465    0.098954 -0.056886   \n",
       "enginelocation     0.212471 -0.040070   -0.057191   -0.137757  0.126546   \n",
       "wheelbase         -0.531954  0.308346    0.257611    0.447357  0.368772   \n",
       "carlength         -0.357612  0.212679    0.234539    0.398568  0.376842   \n",
       "carwidth          -0.232919  0.233880    0.300567    0.207168  0.191511   \n",
       "carheight         -0.541038  0.284631    0.087311    0.552208  0.483675   \n",
       "curbweight        -0.227691  0.217275    0.324902    0.197379  0.240367   \n",
       "enginetype         0.015797  0.028837    0.014505    0.037170  0.127736   \n",
       "cylindernumber    -0.113129 -0.024544   -0.047972   -0.016009  0.106245   \n",
       "enginesize        -0.105790  0.069594    0.108217    0.020742  0.172381   \n",
       "fuelsystem         0.016678  0.682404    0.473355   -0.017936 -0.054724   \n",
       "boreratio         -0.130051  0.054451    0.212614    0.119258  0.224976   \n",
       "stroke            -0.008735  0.241829    0.222982   -0.011082  0.000598   \n",
       "compressionratio  -0.178515  0.984356    0.295541    0.177888  0.156686   \n",
       "horsepower         0.070873 -0.163926    0.241685   -0.126947  0.047234   \n",
       "peakrpm            0.273606 -0.476883   -0.183383   -0.247668 -0.147031   \n",
       "citympg           -0.035823  0.255963   -0.202362   -0.012417 -0.095826   \n",
       "highwaympg         0.034606  0.191392   -0.254416   -0.036330 -0.126939   \n",
       "price             -0.079978  0.105679    0.177926    0.031835  0.161294   \n",
       "\n",
       "                  drivewheel  enginelocation  wheelbase  carlength  carwidth  \\\n",
       "symboling           0.041671        0.212471  -0.531954  -0.357612 -0.232919   \n",
       "fueltype           -0.132257       -0.040070   0.308346   0.212679  0.233880   \n",
       "aspiration         -0.066465       -0.057191   0.257611   0.234539  0.300567   \n",
       "doornumber          0.098954       -0.137757   0.447357   0.398568  0.207168   \n",
       "carbody            -0.056886        0.126546   0.368772   0.376842  0.191511   \n",
       "drivewheel          1.000000       -0.147865  -0.459745  -0.485649 -0.470751   \n",
       "enginelocation     -0.147865        1.000000  -0.187790  -0.050989 -0.051698   \n",
       "wheelbase          -0.459745       -0.187790   1.000000   0.874587  0.795144   \n",
       "carlength          -0.485649       -0.050989   0.874587   1.000000  0.841118   \n",
       "carwidth           -0.470751       -0.051698   0.795144   0.841118  1.000000   \n",
       "carheight           0.019719       -0.106234   0.589435   0.491029  0.279210   \n",
       "curbweight         -0.575111        0.050468   0.776386   0.877728  0.867032   \n",
       "enginetype          0.192637        0.323697  -0.136452  -0.172093 -0.098253   \n",
       "cylindernumber     -0.314006        0.183048   0.339507   0.430672  0.545007   \n",
       "enginesize         -0.524307        0.196826   0.569329   0.683360  0.735433   \n",
       "fuelsystem          0.036437       -0.082672   0.004828  -0.090618 -0.017121   \n",
       "boreratio          -0.481827        0.185042   0.488750   0.606454  0.559150   \n",
       "stroke             -0.071591       -0.138455   0.160959   0.129533  0.182942   \n",
       "compressionratio   -0.127479       -0.019762   0.249786   0.158414  0.181129   \n",
       "horsepower         -0.518686        0.317839   0.353294   0.552623  0.640732   \n",
       "peakrpm             0.039417        0.198461  -0.360469  -0.287242 -0.220012   \n",
       "citympg             0.449581       -0.153487  -0.470414  -0.670909 -0.642704   \n",
       "highwaympg          0.452220       -0.102026  -0.544082  -0.704662 -0.677218   \n",
       "price              -0.577992        0.324973   0.577816   0.682920  0.759325   \n",
       "\n",
       "                  carheight  curbweight  enginetype  cylindernumber  \\\n",
       "symboling         -0.541038   -0.227691    0.015797       -0.113129   \n",
       "fueltype           0.284631    0.217275    0.028837       -0.024544   \n",
       "aspiration         0.087311    0.324902    0.014505       -0.047972   \n",
       "doornumber         0.552208    0.197379    0.037170       -0.016009   \n",
       "carbody            0.483675    0.240367    0.127736        0.106245   \n",
       "drivewheel         0.019719   -0.575111    0.192637       -0.314006   \n",
       "enginelocation    -0.106234    0.050468    0.323697        0.183048   \n",
       "wheelbase          0.589435    0.776386   -0.136452        0.339507   \n",
       "carlength          0.491029    0.877728   -0.172093        0.430672   \n",
       "carwidth           0.279210    0.867032   -0.098253        0.545007   \n",
       "carheight          1.000000    0.295572    0.009540       -0.013995   \n",
       "curbweight         0.295572    1.000000   -0.165371        0.609727   \n",
       "enginetype         0.009540   -0.165371    1.000000       -0.250047   \n",
       "cylindernumber    -0.013995    0.609727   -0.250047        1.000000   \n",
       "enginesize         0.067149    0.850594   -0.230979        0.846031   \n",
       "fuelsystem        -0.050644   -0.026356    0.078839       -0.229010   \n",
       "boreratio          0.171071    0.648480    0.262516        0.231399   \n",
       "stroke            -0.055307    0.168790   -0.408125        0.008210   \n",
       "compressionratio   0.261214    0.151362    0.030285       -0.020002   \n",
       "horsepower        -0.108802    0.750739   -0.103685        0.692016   \n",
       "peakrpm           -0.320411   -0.266243   -0.055094       -0.124172   \n",
       "citympg           -0.048640   -0.757414    0.064209       -0.445837   \n",
       "highwaympg        -0.107358   -0.797465    0.078233       -0.466666   \n",
       "price              0.119336    0.835305   -0.092841        0.718305   \n",
       "\n",
       "                  enginesize  fuelsystem  boreratio    stroke  \\\n",
       "symboling          -0.105790    0.016678  -0.130051 -0.008735   \n",
       "fueltype            0.069594    0.682404   0.054451  0.241829   \n",
       "aspiration          0.108217    0.473355   0.212614  0.222982   \n",
       "doornumber          0.020742   -0.017936   0.119258 -0.011082   \n",
       "carbody             0.172381   -0.054724   0.224976  0.000598   \n",
       "drivewheel         -0.524307    0.036437  -0.481827 -0.071591   \n",
       "enginelocation      0.196826   -0.082672   0.185042 -0.138455   \n",
       "wheelbase           0.569329    0.004828   0.488750  0.160959   \n",
       "carlength           0.683360   -0.090618   0.606454  0.129533   \n",
       "carwidth            0.735433   -0.017121   0.559150  0.182942   \n",
       "carheight           0.067149   -0.050644   0.171071 -0.055307   \n",
       "curbweight          0.850594   -0.026356   0.648480  0.168790   \n",
       "enginetype         -0.230979    0.078839   0.262516 -0.408125   \n",
       "cylindernumber      0.846031   -0.229010   0.231399  0.008210   \n",
       "enginesize          1.000000   -0.132202   0.583774  0.203129   \n",
       "fuelsystem         -0.132202    1.000000  -0.116891  0.364888   \n",
       "boreratio           0.583774   -0.116891   1.000000 -0.055909   \n",
       "stroke              0.203129    0.364888  -0.055909  1.000000   \n",
       "compressionratio    0.028971    0.635120   0.005197  0.186110   \n",
       "horsepower          0.809769   -0.225575   0.573677  0.080940   \n",
       "peakrpm            -0.244660   -0.206149  -0.254976 -0.067964   \n",
       "citympg            -0.653658    0.261582  -0.584532 -0.042145   \n",
       "highwaympg         -0.677470    0.217181  -0.587012 -0.043931   \n",
       "price               0.874145   -0.122118   0.553173  0.079443   \n",
       "\n",
       "                  compressionratio  horsepower   peakrpm   citympg  \\\n",
       "symboling                -0.178515    0.070873  0.273606 -0.035823   \n",
       "fueltype                  0.984356   -0.163926 -0.476883  0.255963   \n",
       "aspiration                0.295541    0.241685 -0.183383 -0.202362   \n",
       "doornumber                0.177888   -0.126947 -0.247668 -0.012417   \n",
       "carbody                   0.156686    0.047234 -0.147031 -0.095826   \n",
       "drivewheel               -0.127479   -0.518686  0.039417  0.449581   \n",
       "enginelocation           -0.019762    0.317839  0.198461 -0.153487   \n",
       "wheelbase                 0.249786    0.353294 -0.360469 -0.470414   \n",
       "carlength                 0.158414    0.552623 -0.287242 -0.670909   \n",
       "carwidth                  0.181129    0.640732 -0.220012 -0.642704   \n",
       "carheight                 0.261214   -0.108802 -0.320411 -0.048640   \n",
       "curbweight                0.151362    0.750739 -0.266243 -0.757414   \n",
       "enginetype                0.030285   -0.103685 -0.055094  0.064209   \n",
       "cylindernumber           -0.020002    0.692016 -0.124172 -0.445837   \n",
       "enginesize                0.028971    0.809769 -0.244660 -0.653658   \n",
       "fuelsystem                0.635120   -0.225575 -0.206149  0.261582   \n",
       "boreratio                 0.005197    0.573677 -0.254976 -0.584532   \n",
       "stroke                    0.186110    0.080940 -0.067964 -0.042145   \n",
       "compressionratio          1.000000   -0.204326 -0.435741  0.324701   \n",
       "horsepower               -0.204326    1.000000  0.131073 -0.801456   \n",
       "peakrpm                  -0.435741    0.131073  1.000000 -0.113544   \n",
       "citympg                   0.324701   -0.801456 -0.113544  1.000000   \n",
       "highwaympg                0.265201   -0.770544 -0.054275  0.971337   \n",
       "price                     0.067984    0.808139 -0.085267 -0.685751   \n",
       "\n",
       "                  highwaympg     price  \n",
       "symboling           0.034606 -0.079978  \n",
       "fueltype            0.191392  0.105679  \n",
       "aspiration         -0.254416  0.177926  \n",
       "doornumber         -0.036330  0.031835  \n",
       "carbody            -0.126939  0.161294  \n",
       "drivewheel          0.452220 -0.577992  \n",
       "enginelocation     -0.102026  0.324973  \n",
       "wheelbase          -0.544082  0.577816  \n",
       "carlength          -0.704662  0.682920  \n",
       "carwidth           -0.677218  0.759325  \n",
       "carheight          -0.107358  0.119336  \n",
       "curbweight         -0.797465  0.835305  \n",
       "enginetype          0.078233 -0.092841  \n",
       "cylindernumber     -0.466666  0.718305  \n",
       "enginesize         -0.677470  0.874145  \n",
       "fuelsystem          0.217181 -0.122118  \n",
       "boreratio          -0.587012  0.553173  \n",
       "stroke             -0.043931  0.079443  \n",
       "compressionratio    0.265201  0.067984  \n",
       "horsepower         -0.770544  0.808139  \n",
       "peakrpm            -0.054275 -0.085267  \n",
       "citympg             0.971337 -0.685751  \n",
       "highwaympg          1.000000 -0.697599  \n",
       "price              -0.697599  1.000000  "
      ]
     },
     "execution_count": 186,
     "metadata": {},
     "output_type": "execute_result"
    }
   ],
   "source": [
    "data.corr()"
   ]
  },
  {
   "cell_type": "code",
   "execution_count": 187,
   "metadata": {},
   "outputs": [
    {
     "data": {
      "text/plain": [
       "<matplotlib.axes._subplots.AxesSubplot at 0x2165e252108>"
      ]
     },
     "execution_count": 187,
     "metadata": {},
     "output_type": "execute_result"
    },
    {
     "data": {
      "image/png": "[encoded data removed]",
      "text/plain": [
       "<Figure size 1440x720 with 2 Axes>"
      ]
     },
     "metadata": {
      "needs_background": "light"
     },
     "output_type": "display_data"
    }
   ],
   "source": [
    "plt.figure(figsize = (20, 10))\n",
    "sns.heatmap(data.corr(), annot = True, linewidth = 0.5)"
   ]
  },
  {
   "cell_type": "markdown",
   "metadata": {},
   "source": [
    ">Inference From Correlation Graph:\n",
    "    1. The correlation graph above indicates some features are positively correlated with price, such as \n",
    "       horsepower(.081), enginesize(0.87), etc.\n",
    "    2. It also indicates some features are negatively correlated with price, such as citympg(-0.69), highwaympg(-0.7), etc.\n",
    "    3. Some features also have negligible correlation with price; e.g carheight(0.12) and stroke (0.079)."
   ]
  },
  {
   "cell_type": "code",
   "execution_count": 188,
   "metadata": {
    "scrolled": true
   },
   "outputs": [
    {
     "data": {
      "text/plain": [
       "symboling          -0.079978\n",
       "fueltype            0.105679\n",
       "aspiration          0.177926\n",
       "doornumber          0.031835\n",
       "carbody             0.161294\n",
       "drivewheel         -0.577992\n",
       "enginelocation      0.324973\n",
       "wheelbase           0.577816\n",
       "carlength           0.682920\n",
       "carwidth            0.759325\n",
       "carheight           0.119336\n",
       "curbweight          0.835305\n",
       "enginetype         -0.092841\n",
       "cylindernumber      0.718305\n",
       "enginesize          0.874145\n",
       "fuelsystem         -0.122118\n",
       "boreratio           0.553173\n",
       "stroke              0.079443\n",
       "compressionratio    0.067984\n",
       "horsepower          0.808139\n",
       "peakrpm            -0.085267\n",
       "citympg            -0.685751\n",
       "highwaympg         -0.697599\n",
       "price               1.000000\n",
       "Name: price, dtype: float64"
      ]
     },
     "execution_count": 188,
     "metadata": {},
     "output_type": "execute_result"
    }
   ],
   "source": [
    "#Correlation of each feature to the price\n",
    "data.corr()['price'][:] "
   ]
  },
  {
   "cell_type": "markdown",
   "metadata": {},
   "source": [
    ">The following is a correction on misspelled CarNames"
   ]
  },
  {
   "cell_type": "code",
   "execution_count": 189,
   "metadata": {},
   "outputs": [
    {
     "data": {
      "text/plain": [
       "[Text(0, 0.5, 'Frequency of Make'), Text(0.5, 0, 'Make')]"
      ]
     },
     "execution_count": 189,
     "metadata": {},
     "output_type": "execute_result"
    },
    {
     "data": {
      "image/png": "[encoded data removed]",
      "text/plain": [
       "<Figure size 864x360 with 1 Axes>"
      ]
     },
     "metadata": {
      "needs_background": "light"
     },
     "output_type": "display_data"
    }
   ],
   "source": [
    "plt.figure(figsize=(12, 5))\n",
    "\n",
    "plt1 = data.Make.value_counts().plot(kind='bar')\n",
    "plt.title('Car Make Histogram')\n",
    "plt1.set(xlabel = 'Make', ylabel='Frequency of Make') # A frequency is the number of times a data value occurs."
   ]
  },
  {
   "cell_type": "markdown",
   "metadata": {},
   "source": [
    "One can infer from the above chart that Toyota has most frequency than other cars in the US."
   ]
  },
  {
   "cell_type": "code",
   "execution_count": 190,
   "metadata": {
    "scrolled": true
   },
   "outputs": [
    {
     "data": {
      "text/plain": [
       "[Text(0, 0.5, 'Frequency of fuel type'), Text(0.5, 0, 'fueltype')]"
      ]
     },
     "execution_count": 190,
     "metadata": {},
     "output_type": "execute_result"
    },
    {
     "data": {
      "image/png": "[encoded data removed]",
      "text/plain": [
       "<Figure size 864x360 with 1 Axes>"
      ]
     },
     "metadata": {
      "needs_background": "light"
     },
     "output_type": "display_data"
    }
   ],
   "source": [
    "plt.figure(figsize=(12, 5))\n",
    "\n",
    "plt1 = data.fueltype.value_counts().plot(kind='bar')\n",
    "plt.title('Fuel Type Histogram')\n",
    "plt1.set(xlabel = 'fueltype', ylabel='Frequency of fuel type')"
   ]
  },
  {
   "cell_type": "markdown",
   "metadata": {},
   "source": [
    "Number of gas-fueled cars are more than diesel\n"
   ]
  },
  {
   "cell_type": "code",
   "execution_count": 191,
   "metadata": {},
   "outputs": [
    {
     "data": {
      "text/plain": [
       "[Text(0, 0.5, 'Frequency of model type'), Text(0.5, 0, 'Model')]"
      ]
     },
     "execution_count": 191,
     "metadata": {},
     "output_type": "execute_result"
    },
    {
     "data": {
      "image/png": "[encoded data removed]",
      "text/plain": [
       "<Figure size 864x360 with 1 Axes>"
      ]
     },
     "metadata": {
      "needs_background": "light"
     },
     "output_type": "display_data"
    }
   ],
   "source": [
    "plt.figure(figsize=(12, 5))\n",
    "\n",
    "plt1 = data.carbody.value_counts().plot(kind='bar')\n",
    "plt.title('Model Type Histogram')\n",
    "plt1.set(xlabel = 'Model', ylabel='Frequency of model type')"
   ]
  },
  {
   "cell_type": "code",
   "execution_count": 192,
   "metadata": {},
   "outputs": [
    {
     "data": {
      "text/plain": [
       "[Text(0, 0.5, 'Frequency of enginesize'), Text(0.5, 0, 'enginesize')]"
      ]
     },
     "execution_count": 192,
     "metadata": {},
     "output_type": "execute_result"
    },
    {
     "data": {
      "image/png": "[encoded data removed]",
      "text/plain": [
       "<Figure size 864x360 with 1 Axes>"
      ]
     },
     "metadata": {
      "needs_background": "light"
     },
     "output_type": "display_data"
    }
   ],
   "source": [
    "plt.figure(figsize=(12, 5))\n",
    "\n",
    "plt1 = data.enginesize.value_counts().plot(kind='bar')\n",
    "plt.title('enginesize Histogram')\n",
    "plt1.set(xlabel = 'enginesize', ylabel='Frequency of enginesize') # A frequency is the number of times a data value occurs."
   ]
  },
  {
   "cell_type": "code",
   "execution_count": 193,
   "metadata": {},
   "outputs": [
    {
     "data": {
      "text/plain": [
       "[Text(0, 0.5, 'Frequency of model type'), Text(0.5, 0, 'cylindernumber')]"
      ]
     },
     "execution_count": 193,
     "metadata": {},
     "output_type": "execute_result"
    },
    {
     "data": {
      "image/png": "[encoded data removed]",
      "text/plain": [
       "<Figure size 864x360 with 1 Axes>"
      ]
     },
     "metadata": {
      "needs_background": "light"
     },
     "output_type": "display_data"
    }
   ],
   "source": [
    "plt.figure(figsize=(12, 5))\n",
    "\n",
    "plt1 = data.cylindernumber.value_counts().plot(kind='bar')\n",
    "plt.title('cylindernumber Type Histogram')\n",
    "plt1.set(xlabel = 'cylindernumber', ylabel='Frequency of model type')"
   ]
  },
  {
   "cell_type": "code",
   "execution_count": 194,
   "metadata": {},
   "outputs": [
    {
     "data": {
      "text/plain": [
       "[Text(0, 0.5, 'Frequency of enginelocation   type'),\n",
       " Text(0.5, 0, 'enginelocation ')]"
      ]
     },
     "execution_count": 194,
     "metadata": {},
     "output_type": "execute_result"
    },
    {
     "data": {
      "image/png": "[encoded data removed]",
      "text/plain": [
       "<Figure size 864x360 with 1 Axes>"
      ]
     },
     "metadata": {
      "needs_background": "light"
     },
     "output_type": "display_data"
    }
   ],
   "source": [
    "plt.figure(figsize=(12, 5))\n",
    "\n",
    "plt1 = data.enginelocation  .value_counts().plot(kind='bar')\n",
    "plt.title('enginelocation Type Histogram')\n",
    "plt1.set(xlabel = 'enginelocation ', ylabel='Frequency of enginelocation   type')"
   ]
  },
  {
   "cell_type": "code",
   "execution_count": 195,
   "metadata": {},
   "outputs": [
    {
     "data": {
      "text/plain": [
       "[Text(0, 0.5, 'Frequency of horsepower type'), Text(0.5, 0, 'horsepower')]"
      ]
     },
     "execution_count": 195,
     "metadata": {},
     "output_type": "execute_result"
    },
    {
     "data": {
      "image/png": "[encoded data removed]",
      "text/plain": [
       "<Figure size 864x360 with 1 Axes>"
      ]
     },
     "metadata": {
      "needs_background": "light"
     },
     "output_type": "display_data"
    }
   ],
   "source": [
    "plt.figure(figsize=(12, 5))\n",
    "\n",
    "plt1 = data.horsepower  .value_counts().plot(kind='bar')\n",
    "plt.title('horsepower Type Histogram')\n",
    "plt1.set(xlabel = 'horsepower', ylabel='Frequency of horsepower type')"
   ]
  },
  {
   "cell_type": "code",
   "execution_count": 196,
   "metadata": {},
   "outputs": [],
   "source": [
    " #ModelGroup = data.groupby('Model')"
   ]
  },
  {
   "cell_type": "code",
   "execution_count": 197,
   "metadata": {},
   "outputs": [],
   "source": [
    "#ModelNo = len(data['Model'].unique())"
   ]
  },
  {
   "cell_type": "code",
   "execution_count": 198,
   "metadata": {},
   "outputs": [
    {
     "data": {
      "text/plain": [
       "22"
      ]
     },
     "execution_count": 198,
     "metadata": {},
     "output_type": "execute_result"
    }
   ],
   "source": [
    "len(data['Make'].unique())"
   ]
  },
  {
   "cell_type": "markdown",
   "metadata": {},
   "source": [
    "The engine types are dohc, ohcv and ohc"
   ]
  },
  {
   "cell_type": "code",
   "execution_count": 199,
   "metadata": {},
   "outputs": [
    {
     "data": {
      "text/html": [
       "<div>\n",
       "<style scoped>\n",
       "    .dataframe tbody tr th:only-of-type {\n",
       "        vertical-align: middle;\n",
       "    }\n",
       "\n",
       "    .dataframe tbody tr th {\n",
       "        vertical-align: top;\n",
       "    }\n",
       "\n",
       "    .dataframe thead th {\n",
       "        text-align: right;\n",
       "    }\n",
       "</style>\n",
       "<table border=\"1\" class=\"dataframe\">\n",
       "  <thead>\n",
       "    <tr style=\"text-align: right;\">\n",
       "      <th></th>\n",
       "      <th>symboling</th>\n",
       "      <th>CarName</th>\n",
       "      <th>fueltype</th>\n",
       "      <th>aspiration</th>\n",
       "      <th>doornumber</th>\n",
       "      <th>carbody</th>\n",
       "      <th>drivewheel</th>\n",
       "      <th>enginelocation</th>\n",
       "      <th>wheelbase</th>\n",
       "      <th>carlength</th>\n",
       "      <th>carwidth</th>\n",
       "      <th>carheight</th>\n",
       "      <th>curbweight</th>\n",
       "      <th>enginetype</th>\n",
       "      <th>cylindernumber</th>\n",
       "      <th>enginesize</th>\n",
       "      <th>fuelsystem</th>\n",
       "      <th>boreratio</th>\n",
       "      <th>stroke</th>\n",
       "      <th>compressionratio</th>\n",
       "      <th>horsepower</th>\n",
       "      <th>peakrpm</th>\n",
       "      <th>citympg</th>\n",
       "      <th>highwaympg</th>\n",
       "      <th>price</th>\n",
       "      <th>Make</th>\n",
       "      <th>Model</th>\n",
       "    </tr>\n",
       "  </thead>\n",
       "  <tbody>\n",
       "    <tr>\n",
       "      <th>0</th>\n",
       "      <td>3</td>\n",
       "      <td>alfa-romero giulia</td>\n",
       "      <td>0</td>\n",
       "      <td>0</td>\n",
       "      <td>2</td>\n",
       "      <td>0</td>\n",
       "      <td>0</td>\n",
       "      <td>0</td>\n",
       "      <td>88.6</td>\n",
       "      <td>168.8</td>\n",
       "      <td>64.1</td>\n",
       "      <td>48.8</td>\n",
       "      <td>2548</td>\n",
       "      <td>0</td>\n",
       "      <td>4</td>\n",
       "      <td>130</td>\n",
       "      <td>0</td>\n",
       "      <td>3.47</td>\n",
       "      <td>2.68</td>\n",
       "      <td>9.0</td>\n",
       "      <td>111</td>\n",
       "      <td>5000</td>\n",
       "      <td>21</td>\n",
       "      <td>27</td>\n",
       "      <td>13495.000</td>\n",
       "      <td>alfa-romeo</td>\n",
       "      <td>giulia</td>\n",
       "    </tr>\n",
       "    <tr>\n",
       "      <th>1</th>\n",
       "      <td>3</td>\n",
       "      <td>alfa-romero stelvio</td>\n",
       "      <td>0</td>\n",
       "      <td>0</td>\n",
       "      <td>2</td>\n",
       "      <td>0</td>\n",
       "      <td>0</td>\n",
       "      <td>0</td>\n",
       "      <td>88.6</td>\n",
       "      <td>168.8</td>\n",
       "      <td>64.1</td>\n",
       "      <td>48.8</td>\n",
       "      <td>2548</td>\n",
       "      <td>0</td>\n",
       "      <td>4</td>\n",
       "      <td>130</td>\n",
       "      <td>0</td>\n",
       "      <td>3.47</td>\n",
       "      <td>2.68</td>\n",
       "      <td>9.0</td>\n",
       "      <td>111</td>\n",
       "      <td>5000</td>\n",
       "      <td>21</td>\n",
       "      <td>27</td>\n",
       "      <td>16500.000</td>\n",
       "      <td>alfa-romeo</td>\n",
       "      <td>stelvio</td>\n",
       "    </tr>\n",
       "    <tr>\n",
       "      <th>2</th>\n",
       "      <td>1</td>\n",
       "      <td>alfa-romero Quadrifoglio</td>\n",
       "      <td>0</td>\n",
       "      <td>0</td>\n",
       "      <td>2</td>\n",
       "      <td>1</td>\n",
       "      <td>0</td>\n",
       "      <td>0</td>\n",
       "      <td>94.5</td>\n",
       "      <td>171.2</td>\n",
       "      <td>65.5</td>\n",
       "      <td>52.4</td>\n",
       "      <td>2823</td>\n",
       "      <td>1</td>\n",
       "      <td>6</td>\n",
       "      <td>152</td>\n",
       "      <td>0</td>\n",
       "      <td>2.68</td>\n",
       "      <td>3.47</td>\n",
       "      <td>9.0</td>\n",
       "      <td>154</td>\n",
       "      <td>5000</td>\n",
       "      <td>19</td>\n",
       "      <td>26</td>\n",
       "      <td>16500.000</td>\n",
       "      <td>alfa-romeo</td>\n",
       "      <td>Quadrifoglio</td>\n",
       "    </tr>\n",
       "    <tr>\n",
       "      <th>3</th>\n",
       "      <td>2</td>\n",
       "      <td>audi 100 ls</td>\n",
       "      <td>0</td>\n",
       "      <td>0</td>\n",
       "      <td>4</td>\n",
       "      <td>2</td>\n",
       "      <td>1</td>\n",
       "      <td>0</td>\n",
       "      <td>99.8</td>\n",
       "      <td>176.6</td>\n",
       "      <td>66.2</td>\n",
       "      <td>54.3</td>\n",
       "      <td>2337</td>\n",
       "      <td>2</td>\n",
       "      <td>4</td>\n",
       "      <td>109</td>\n",
       "      <td>0</td>\n",
       "      <td>3.19</td>\n",
       "      <td>3.40</td>\n",
       "      <td>10.0</td>\n",
       "      <td>102</td>\n",
       "      <td>5500</td>\n",
       "      <td>24</td>\n",
       "      <td>30</td>\n",
       "      <td>13950.000</td>\n",
       "      <td>audi</td>\n",
       "      <td>100-ls</td>\n",
       "    </tr>\n",
       "    <tr>\n",
       "      <th>4</th>\n",
       "      <td>2</td>\n",
       "      <td>audi 100ls</td>\n",
       "      <td>0</td>\n",
       "      <td>0</td>\n",
       "      <td>4</td>\n",
       "      <td>2</td>\n",
       "      <td>2</td>\n",
       "      <td>0</td>\n",
       "      <td>99.4</td>\n",
       "      <td>176.6</td>\n",
       "      <td>66.4</td>\n",
       "      <td>54.3</td>\n",
       "      <td>2824</td>\n",
       "      <td>2</td>\n",
       "      <td>5</td>\n",
       "      <td>136</td>\n",
       "      <td>0</td>\n",
       "      <td>3.19</td>\n",
       "      <td>3.40</td>\n",
       "      <td>8.0</td>\n",
       "      <td>115</td>\n",
       "      <td>5500</td>\n",
       "      <td>18</td>\n",
       "      <td>22</td>\n",
       "      <td>17450.000</td>\n",
       "      <td>audi</td>\n",
       "      <td>100ls</td>\n",
       "    </tr>\n",
       "    <tr>\n",
       "      <th>5</th>\n",
       "      <td>2</td>\n",
       "      <td>audi fox</td>\n",
       "      <td>0</td>\n",
       "      <td>0</td>\n",
       "      <td>2</td>\n",
       "      <td>2</td>\n",
       "      <td>1</td>\n",
       "      <td>0</td>\n",
       "      <td>99.8</td>\n",
       "      <td>177.3</td>\n",
       "      <td>66.3</td>\n",
       "      <td>53.1</td>\n",
       "      <td>2507</td>\n",
       "      <td>2</td>\n",
       "      <td>5</td>\n",
       "      <td>136</td>\n",
       "      <td>0</td>\n",
       "      <td>3.19</td>\n",
       "      <td>3.40</td>\n",
       "      <td>8.5</td>\n",
       "      <td>110</td>\n",
       "      <td>5500</td>\n",
       "      <td>19</td>\n",
       "      <td>25</td>\n",
       "      <td>15250.000</td>\n",
       "      <td>audi</td>\n",
       "      <td>fox</td>\n",
       "    </tr>\n",
       "    <tr>\n",
       "      <th>6</th>\n",
       "      <td>1</td>\n",
       "      <td>audi 100ls</td>\n",
       "      <td>0</td>\n",
       "      <td>0</td>\n",
       "      <td>4</td>\n",
       "      <td>2</td>\n",
       "      <td>1</td>\n",
       "      <td>0</td>\n",
       "      <td>105.8</td>\n",
       "      <td>192.7</td>\n",
       "      <td>71.4</td>\n",
       "      <td>55.7</td>\n",
       "      <td>2844</td>\n",
       "      <td>2</td>\n",
       "      <td>5</td>\n",
       "      <td>136</td>\n",
       "      <td>0</td>\n",
       "      <td>3.19</td>\n",
       "      <td>3.40</td>\n",
       "      <td>8.5</td>\n",
       "      <td>110</td>\n",
       "      <td>5500</td>\n",
       "      <td>19</td>\n",
       "      <td>25</td>\n",
       "      <td>17710.000</td>\n",
       "      <td>audi</td>\n",
       "      <td>100ls</td>\n",
       "    </tr>\n",
       "    <tr>\n",
       "      <th>7</th>\n",
       "      <td>1</td>\n",
       "      <td>audi 5000</td>\n",
       "      <td>0</td>\n",
       "      <td>0</td>\n",
       "      <td>4</td>\n",
       "      <td>3</td>\n",
       "      <td>1</td>\n",
       "      <td>0</td>\n",
       "      <td>105.8</td>\n",
       "      <td>192.7</td>\n",
       "      <td>71.4</td>\n",
       "      <td>55.7</td>\n",
       "      <td>2954</td>\n",
       "      <td>2</td>\n",
       "      <td>5</td>\n",
       "      <td>136</td>\n",
       "      <td>0</td>\n",
       "      <td>3.19</td>\n",
       "      <td>3.40</td>\n",
       "      <td>8.5</td>\n",
       "      <td>110</td>\n",
       "      <td>5500</td>\n",
       "      <td>19</td>\n",
       "      <td>25</td>\n",
       "      <td>18920.000</td>\n",
       "      <td>audi</td>\n",
       "      <td>5000</td>\n",
       "    </tr>\n",
       "    <tr>\n",
       "      <th>8</th>\n",
       "      <td>1</td>\n",
       "      <td>audi 4000</td>\n",
       "      <td>0</td>\n",
       "      <td>1</td>\n",
       "      <td>4</td>\n",
       "      <td>2</td>\n",
       "      <td>1</td>\n",
       "      <td>0</td>\n",
       "      <td>105.8</td>\n",
       "      <td>192.7</td>\n",
       "      <td>71.4</td>\n",
       "      <td>55.9</td>\n",
       "      <td>3086</td>\n",
       "      <td>2</td>\n",
       "      <td>5</td>\n",
       "      <td>131</td>\n",
       "      <td>0</td>\n",
       "      <td>3.13</td>\n",
       "      <td>3.40</td>\n",
       "      <td>8.3</td>\n",
       "      <td>140</td>\n",
       "      <td>5500</td>\n",
       "      <td>17</td>\n",
       "      <td>20</td>\n",
       "      <td>23875.000</td>\n",
       "      <td>audi</td>\n",
       "      <td>4000</td>\n",
       "    </tr>\n",
       "    <tr>\n",
       "      <th>9</th>\n",
       "      <td>0</td>\n",
       "      <td>audi 5000s (diesel)</td>\n",
       "      <td>0</td>\n",
       "      <td>1</td>\n",
       "      <td>2</td>\n",
       "      <td>1</td>\n",
       "      <td>2</td>\n",
       "      <td>0</td>\n",
       "      <td>99.5</td>\n",
       "      <td>178.2</td>\n",
       "      <td>67.9</td>\n",
       "      <td>52.0</td>\n",
       "      <td>3053</td>\n",
       "      <td>2</td>\n",
       "      <td>5</td>\n",
       "      <td>131</td>\n",
       "      <td>0</td>\n",
       "      <td>3.13</td>\n",
       "      <td>3.40</td>\n",
       "      <td>7.0</td>\n",
       "      <td>160</td>\n",
       "      <td>5500</td>\n",
       "      <td>16</td>\n",
       "      <td>22</td>\n",
       "      <td>17859.167</td>\n",
       "      <td>audi</td>\n",
       "      <td>5000s-(diesel)</td>\n",
       "    </tr>\n",
       "  </tbody>\n",
       "</table>\n",
       "</div>"
      ],
      "text/plain": [
       "   symboling                   CarName  fueltype  aspiration  doornumber  \\\n",
       "0          3        alfa-romero giulia         0           0           2   \n",
       "1          3       alfa-romero stelvio         0           0           2   \n",
       "2          1  alfa-romero Quadrifoglio         0           0           2   \n",
       "3          2               audi 100 ls         0           0           4   \n",
       "4          2                audi 100ls         0           0           4   \n",
       "5          2                  audi fox         0           0           2   \n",
       "6          1                audi 100ls         0           0           4   \n",
       "7          1                 audi 5000         0           0           4   \n",
       "8          1                 audi 4000         0           1           4   \n",
       "9          0       audi 5000s (diesel)         0           1           2   \n",
       "\n",
       "   carbody  drivewheel  enginelocation  wheelbase  carlength  carwidth  \\\n",
       "0        0           0               0       88.6      168.8      64.1   \n",
       "1        0           0               0       88.6      168.8      64.1   \n",
       "2        1           0               0       94.5      171.2      65.5   \n",
       "3        2           1               0       99.8      176.6      66.2   \n",
       "4        2           2               0       99.4      176.6      66.4   \n",
       "5        2           1               0       99.8      177.3      66.3   \n",
       "6        2           1               0      105.8      192.7      71.4   \n",
       "7        3           1               0      105.8      192.7      71.4   \n",
       "8        2           1               0      105.8      192.7      71.4   \n",
       "9        1           2               0       99.5      178.2      67.9   \n",
       "\n",
       "   carheight  curbweight  enginetype  cylindernumber  enginesize  fuelsystem  \\\n",
       "0       48.8        2548           0               4         130           0   \n",
       "1       48.8        2548           0               4         130           0   \n",
       "2       52.4        2823           1               6         152           0   \n",
       "3       54.3        2337           2               4         109           0   \n",
       "4       54.3        2824           2               5         136           0   \n",
       "5       53.1        2507           2               5         136           0   \n",
       "6       55.7        2844           2               5         136           0   \n",
       "7       55.7        2954           2               5         136           0   \n",
       "8       55.9        3086           2               5         131           0   \n",
       "9       52.0        3053           2               5         131           0   \n",
       "\n",
       "   boreratio  stroke  compressionratio  horsepower  peakrpm  citympg  \\\n",
       "0       3.47    2.68               9.0         111     5000       21   \n",
       "1       3.47    2.68               9.0         111     5000       21   \n",
       "2       2.68    3.47               9.0         154     5000       19   \n",
       "3       3.19    3.40              10.0         102     5500       24   \n",
       "4       3.19    3.40               8.0         115     5500       18   \n",
       "5       3.19    3.40               8.5         110     5500       19   \n",
       "6       3.19    3.40               8.5         110     5500       19   \n",
       "7       3.19    3.40               8.5         110     5500       19   \n",
       "8       3.13    3.40               8.3         140     5500       17   \n",
       "9       3.13    3.40               7.0         160     5500       16   \n",
       "\n",
       "   highwaympg      price        Make           Model  \n",
       "0          27  13495.000  alfa-romeo          giulia  \n",
       "1          27  16500.000  alfa-romeo         stelvio  \n",
       "2          26  16500.000  alfa-romeo    Quadrifoglio  \n",
       "3          30  13950.000        audi          100-ls  \n",
       "4          22  17450.000        audi           100ls  \n",
       "5          25  15250.000        audi             fox  \n",
       "6          25  17710.000        audi           100ls  \n",
       "7          25  18920.000        audi            5000  \n",
       "8          20  23875.000        audi            4000  \n",
       "9          22  17859.167        audi  5000s-(diesel)  "
      ]
     },
     "execution_count": 199,
     "metadata": {},
     "output_type": "execute_result"
    }
   ],
   "source": [
    "data.head(10)"
   ]
  },
  {
   "cell_type": "code",
   "execution_count": 200,
   "metadata": {},
   "outputs": [],
   "source": [
    "data.drop(['CarName', 'Model', 'Make'], axis=1, inplace = True)"
   ]
  },
  {
   "cell_type": "code",
   "execution_count": 201,
   "metadata": {},
   "outputs": [],
   "source": [
    "x = data.drop('price', axis = 1)\n",
    "y = data[['price']]"
   ]
  },
  {
   "cell_type": "code",
   "execution_count": 202,
   "metadata": {},
   "outputs": [],
   "source": [
    "from sklearn.model_selection import train_test_split as tts"
   ]
  },
  {
   "cell_type": "code",
   "execution_count": 203,
   "metadata": {},
   "outputs": [],
   "source": [
    "# Split the dataset to training and testing dataset (unpack)\n",
    "\n",
    "x_train, x_test, y_train, y_test = tts(x, y, test_size = 0.30, random_state = 1)"
   ]
  },
  {
   "cell_type": "code",
   "execution_count": 204,
   "metadata": {},
   "outputs": [
    {
     "data": {
      "text/plain": [
       "205"
      ]
     },
     "execution_count": 204,
     "metadata": {},
     "output_type": "execute_result"
    }
   ],
   "source": [
    "len(x)     # Total length of rows for the independent variables"
   ]
  },
  {
   "cell_type": "code",
   "execution_count": 205,
   "metadata": {},
   "outputs": [
    {
     "data": {
      "text/plain": [
       "143"
      ]
     },
     "execution_count": 205,
     "metadata": {},
     "output_type": "execute_result"
    }
   ],
   "source": [
    "len(x_train)  # 70% for train independent variable"
   ]
  },
  {
   "cell_type": "code",
   "execution_count": 206,
   "metadata": {},
   "outputs": [
    {
     "data": {
      "text/plain": [
       "143.5"
      ]
     },
     "execution_count": 206,
     "metadata": {},
     "output_type": "execute_result"
    }
   ],
   "source": [
    "len(x) * 0.7"
   ]
  },
  {
   "cell_type": "code",
   "execution_count": 207,
   "metadata": {},
   "outputs": [
    {
     "data": {
      "text/plain": [
       "62"
      ]
     },
     "execution_count": 207,
     "metadata": {},
     "output_type": "execute_result"
    }
   ],
   "source": [
    "len(x_test)   # 30% for the test independent variable"
   ]
  },
  {
   "cell_type": "code",
   "execution_count": 208,
   "metadata": {},
   "outputs": [],
   "source": [
    "from sklearn.preprocessing import StandardScaler"
   ]
  },
  {
   "cell_type": "code",
   "execution_count": 209,
   "metadata": {},
   "outputs": [],
   "source": [
    "sc = StandardScaler() # to standardize our features"
   ]
  },
  {
   "cell_type": "code",
   "execution_count": 210,
   "metadata": {},
   "outputs": [],
   "source": [
    "#sc.fit(x_train) # Standardization process\n",
    "x_train_std = sc.fit_transform(x_train)\n",
    "x_test_std = sc.fit_transform(x_test)"
   ]
  },
  {
   "cell_type": "code",
   "execution_count": 211,
   "metadata": {},
   "outputs": [
    {
     "data": {
      "text/plain": [
       "array([[ 1.69785729, -0.31622777,  2.1725561 , ..., -0.28348454,\n",
       "        -0.90919255, -0.94885315],\n",
       "       [-1.42488988, -0.31622777, -0.46028731, ...,  0.15476724,\n",
       "        -0.90919255, -0.94885315],\n",
       "       [-0.64420309, -0.31622777, -0.46028731, ..., -0.72173632,\n",
       "         0.34245159,  0.25058111],\n",
       "       ...,\n",
       "       [ 1.69785729, -0.31622777, -0.46028731, ..., -0.83129926,\n",
       "        -1.3785591 , -1.84842885],\n",
       "       [ 0.91717049, -0.31622777, -0.46028731, ..., -1.59823987,\n",
       "         0.18599607,  0.10065183],\n",
       "       [-0.64420309, -0.31622777, -0.46028731, ...,  1.46952256,\n",
       "         0.34245159,  0.40051039]])"
      ]
     },
     "execution_count": 211,
     "metadata": {},
     "output_type": "execute_result"
    }
   ],
   "source": [
    "x_train_std #70% of standardized training data set"
   ]
  },
  {
   "cell_type": "code",
   "execution_count": 212,
   "metadata": {},
   "outputs": [
    {
     "data": {
      "text/plain": [
       "array([[ 0.99762799, -0.35675303, -0.48989795, ...,  0.74291405,\n",
       "         0.71869122,  0.86948924],\n",
       "       [ 0.12645989, -0.35675303, -0.48989795, ...,  0.16353454,\n",
       "         0.71869122,  0.7309074 ],\n",
       "       [ 0.12645989, -0.35675303, -0.48989795, ..., -0.60897148,\n",
       "         0.71869122,  0.86948924],\n",
       "       ...,\n",
       "       [ 0.12645989, -0.35675303, -0.48989795, ..., -0.60897148,\n",
       "         0.42163218,  0.31516191],\n",
       "       [ 1.86879609, -0.35675303, -0.48989795, ...,  1.70854657,\n",
       "        -1.36072204, -1.20923824],\n",
       "       [-1.61587632, -0.35675303, -0.48989795, ..., -1.7677305 ,\n",
       "         0.12457314,  0.03799824]])"
      ]
     },
     "execution_count": 212,
     "metadata": {},
     "output_type": "execute_result"
    }
   ],
   "source": [
    "x_test_std #30% of standardized testing data set"
   ]
  },
  {
   "cell_type": "code",
   "execution_count": 213,
   "metadata": {},
   "outputs": [],
   "source": [
    "# Create an instance for our model\n",
    "from sklearn.linear_model import LinearRegression\n",
    "regression_model = LinearRegression()"
   ]
  },
  {
   "cell_type": "code",
   "execution_count": 214,
   "metadata": {},
   "outputs": [
    {
     "data": {
      "text/plain": [
       "LinearRegression()"
      ]
     },
     "execution_count": 214,
     "metadata": {},
     "output_type": "execute_result"
    }
   ],
   "source": [
    "# Fit the model\n",
    "regression_model.fit(x_train_std, y_train)  #This is a stage of training the algorithm with datasets, both features and the target."
   ]
  },
  {
   "cell_type": "code",
   "execution_count": 215,
   "metadata": {},
   "outputs": [],
   "source": [
    "y_pred = regression_model.predict(x_test_std)\n"
   ]
  },
  {
   "cell_type": "code",
   "execution_count": 216,
   "metadata": {},
   "outputs": [
    {
     "data": {
      "text/plain": [
       "array([[ 8834.11347301],\n",
       "       [ 6605.82729954],\n",
       "       [ 7880.2897612 ],\n",
       "       [ 6248.32316151],\n",
       "       [ 8050.24259675],\n",
       "       [27569.50712484],\n",
       "       [ 5839.05219389],\n",
       "       [ 1533.94844534],\n",
       "       [ 9067.3305489 ],\n",
       "       [12770.73573178],\n",
       "       [15689.55018189],\n",
       "       [16275.54549151],\n",
       "       [17680.81289642],\n",
       "       [10932.21418722],\n",
       "       [16504.59179073],\n",
       "       [13346.82393825],\n",
       "       [10162.73995176],\n",
       "       [ 9751.63890878],\n",
       "       [14072.46520094],\n",
       "       [12278.47328381],\n",
       "       [11557.67218244],\n",
       "       [ 9333.80857939],\n",
       "       [13600.51211211],\n",
       "       [ 8978.12873497],\n",
       "       [14916.61856577],\n",
       "       [ 9769.98214716],\n",
       "       [15659.01116757],\n",
       "       [10816.95178413],\n",
       "       [ 8812.06321368],\n",
       "       [ 9528.10709416],\n",
       "       [ 8025.30915147],\n",
       "       [12734.60982117],\n",
       "       [25638.34687136],\n",
       "       [12720.47584526],\n",
       "       [21971.66821994],\n",
       "       [ 9597.81032927],\n",
       "       [10004.53081794],\n",
       "       [32243.88579532],\n",
       "       [14008.9551244 ],\n",
       "       [21534.94484296],\n",
       "       [ 9291.74780102],\n",
       "       [21825.65576089],\n",
       "       [ 7400.7194453 ],\n",
       "       [12177.89804411],\n",
       "       [12325.1036129 ],\n",
       "       [ 6995.3996902 ],\n",
       "       [41520.51549653],\n",
       "       [ 8001.19999824],\n",
       "       [22588.39218311],\n",
       "       [20057.51732585],\n",
       "       [25033.17210691],\n",
       "       [18963.14255692],\n",
       "       [19163.0563812 ],\n",
       "       [ 8429.82847539],\n",
       "       [11728.00923126],\n",
       "       [ 6820.50333969],\n",
       "       [12197.06612042],\n",
       "       [10920.89648967],\n",
       "       [21249.99293435],\n",
       "       [ 8637.61516361],\n",
       "       [11076.15248851],\n",
       "       [11875.09296719]])"
      ]
     },
     "execution_count": 216,
     "metadata": {},
     "output_type": "execute_result"
    }
   ],
   "source": [
    "y_pred"
   ]
  },
  {
   "cell_type": "markdown",
   "metadata": {},
   "source": [
    "Below are meant to evaluate the performance of our model"
   ]
  },
  {
   "cell_type": "code",
   "execution_count": 217,
   "metadata": {},
   "outputs": [],
   "source": [
    "import math\n",
    "from sklearn.metrics import mean_squared_error, r2_score, mean_absolute_error"
   ]
  },
  {
   "cell_type": "code",
   "execution_count": 218,
   "metadata": {},
   "outputs": [
    {
     "data": {
      "text/plain": [
       "12326459.515930368"
      ]
     },
     "execution_count": 218,
     "metadata": {},
     "output_type": "execute_result"
    }
   ],
   "source": [
    " mean_squared_error(y_pred, y_test)"
   ]
  },
  {
   "cell_type": "code",
   "execution_count": 219,
   "metadata": {},
   "outputs": [
    {
     "data": {
      "text/plain": [
       "2628.6735638618597"
      ]
     },
     "execution_count": 219,
     "metadata": {},
     "output_type": "execute_result"
    }
   ],
   "source": [
    "mean_absolute_error(y_pred, y_test)"
   ]
  },
  {
   "cell_type": "code",
   "execution_count": 220,
   "metadata": {},
   "outputs": [
    {
     "data": {
      "text/plain": [
       "0.7414765309589597"
      ]
     },
     "execution_count": 220,
     "metadata": {},
     "output_type": "execute_result"
    }
   ],
   "source": [
    "r2_score(y_pred, y_test)"
   ]
  },
  {
   "cell_type": "code",
   "execution_count": 221,
   "metadata": {},
   "outputs": [],
   "source": [
    "from sklearn.ensemble import RandomForestRegressor "
   ]
  },
  {
   "cell_type": "code",
   "execution_count": 222,
   "metadata": {},
   "outputs": [],
   "source": [
    "#rfr = RandomForestRegressor()\n",
    "random_model = RandomForestRegressor()\n"
   ]
  },
  {
   "cell_type": "code",
   "execution_count": 223,
   "metadata": {},
   "outputs": [
    {
     "name": "stderr",
     "output_type": "stream",
     "text": [
      "C:\\Users\\Tony\\anaconda3\\lib\\site-packages\\ipykernel_launcher.py:1: DataConversionWarning: A column-vector y was passed when a 1d array was expected. Please change the shape of y to (n_samples,), for example using ravel().\n",
      "  \"\"\"Entry point for launching an IPython kernel.\n"
     ]
    },
    {
     "data": {
      "text/plain": [
       "RandomForestRegressor()"
      ]
     },
     "execution_count": 223,
     "metadata": {},
     "output_type": "execute_result"
    }
   ],
   "source": [
    "random_model.fit(x_train_std, y_train)"
   ]
  },
  {
   "cell_type": "code",
   "execution_count": 224,
   "metadata": {},
   "outputs": [],
   "source": [
    "y_pred = random_model.predict(x_test_std)"
   ]
  },
  {
   "cell_type": "code",
   "execution_count": 225,
   "metadata": {},
   "outputs": [
    {
     "data": {
      "text/plain": [
       "array([ 7136.70166667,  7661.328     ,  7261.70666667,  6990.93333333,\n",
       "       10862.74      , 29640.09      ,  7290.723     ,  5946.97      ,\n",
       "        7454.69666667, 10475.8       , 16332.99501   , 14871.52      ,\n",
       "       16373.23      , 10279.85      , 15896.61169   , 14191.655     ,\n",
       "       10637.73416667,  7468.47      , 17735.63169   , 13838.72857143,\n",
       "       10612.3       ,  6883.855     , 13897.89      ,  8738.69      ,\n",
       "       13698.645     ,  7468.47      , 16066.76002   ,  9576.88      ,\n",
       "        7133.65633333,  7534.965     ,  7744.65      , 13549.99666667,\n",
       "       33580.37      , 12127.45      , 17280.3       ,  9530.29      ,\n",
       "        9097.64      , 35640.3       , 15120.37250667, 19554.69      ,\n",
       "        7424.285     , 31384.5       ,  7392.87      , 10296.61      ,\n",
       "        9795.47      ,  7517.178     , 40234.805     ,  7042.3       ,\n",
       "       19590.33835   , 31045.19      , 30172.55      , 17368.5       ,\n",
       "       18036.08      ,  7755.26      , 10894.02      ,  6792.628     ,\n",
       "       11695.19      , 11045.65      , 17910.8       ,  8197.45      ,\n",
       "       12839.0475    , 11492.35      ])"
      ]
     },
     "execution_count": 225,
     "metadata": {},
     "output_type": "execute_result"
    }
   ],
   "source": [
    "y_pred #Predictions for y test"
   ]
  },
  {
   "cell_type": "code",
   "execution_count": 226,
   "metadata": {},
   "outputs": [],
   "source": [
    "from sklearn.metrics import mean_squared_error, r2_score, mean_absolute_error"
   ]
  },
  {
   "cell_type": "code",
   "execution_count": 227,
   "metadata": {},
   "outputs": [
    {
     "data": {
      "text/plain": [
       "12925902.504392702"
      ]
     },
     "execution_count": 227,
     "metadata": {},
     "output_type": "execute_result"
    }
   ],
   "source": [
    " mean_squared_error(y_pred, y_test)"
   ]
  },
  {
   "cell_type": "code",
   "execution_count": 228,
   "metadata": {},
   "outputs": [
    {
     "data": {
      "text/plain": [
       "2111.7910444854074"
      ]
     },
     "execution_count": 228,
     "metadata": {},
     "output_type": "execute_result"
    }
   ],
   "source": [
    "mean_absolute_error(y_pred, y_test)"
   ]
  },
  {
   "cell_type": "code",
   "execution_count": 229,
   "metadata": {},
   "outputs": [
    {
     "data": {
      "text/plain": [
       "0.7945674581913338"
      ]
     },
     "execution_count": 229,
     "metadata": {},
     "output_type": "execute_result"
    }
   ],
   "source": [
    "r2_score(y_pred, y_test)"
   ]
  },
  {
   "cell_type": "markdown",
   "metadata": {},
   "source": [
    ">Principal Component Analysis"
   ]
  },
  {
   "cell_type": "code",
   "execution_count": 230,
   "metadata": {},
   "outputs": [],
   "source": [
    "from sklearn.decomposition import PCA"
   ]
  },
  {
   "cell_type": "code",
   "execution_count": 231,
   "metadata": {},
   "outputs": [],
   "source": [
    "pca = PCA(n_components=6)"
   ]
  },
  {
   "cell_type": "code",
   "execution_count": 232,
   "metadata": {},
   "outputs": [
    {
     "data": {
      "text/plain": [
       "PCA(n_components=6)"
      ]
     },
     "execution_count": 232,
     "metadata": {},
     "output_type": "execute_result"
    }
   ],
   "source": [
    "pca.fit(x_train_std)"
   ]
  },
  {
   "cell_type": "code",
   "execution_count": 233,
   "metadata": {},
   "outputs": [],
   "source": [
    "x_train_pca = pca.transform(x_train_std)"
   ]
  },
  {
   "cell_type": "code",
   "execution_count": 234,
   "metadata": {},
   "outputs": [
    {
     "data": {
      "text/plain": [
       "array([[ 1.14375256e+00, -1.16014413e+00,  3.97971137e+00,\n",
       "        -2.13207967e-01, -2.43616155e+00,  1.93379748e-01],\n",
       "       [ 3.16053751e+00, -3.73494564e-02, -1.13804595e+00,\n",
       "        -1.75778575e+00,  1.24423684e+00,  1.29716560e+00],\n",
       "       [-2.07993554e+00,  1.47218329e+00, -2.66151228e+00,\n",
       "        -5.01358777e-02, -4.71065863e-02,  3.99400450e-01],\n",
       "       [-2.88821517e+00,  4.12088928e-01, -9.25294747e-01,\n",
       "        -2.85668881e-01,  5.38354389e-01,  1.92604151e-01],\n",
       "       [-2.80394680e+00, -2.34929493e-01, -2.07433157e-01,\n",
       "        -2.76373601e-01,  3.47321136e-01,  1.94743374e-01],\n",
       "       [-9.15997260e-01, -1.88074562e-01, -1.96715780e+00,\n",
       "         2.29543392e+00, -4.15650467e-01, -1.21274274e+00],\n",
       "       [ 2.41043457e+00, -3.13443315e+00,  2.89588667e+00,\n",
       "        -5.75629715e-01, -4.51257878e-01, -3.60945534e-01],\n",
       "       [ 4.10627642e-01, -1.26075322e+00, -7.71197210e-02,\n",
       "        -4.82955180e-02, -9.26759844e-01, -1.14808272e+00],\n",
       "       [-1.31399966e+00, -1.05342181e+00,  5.44898351e-01,\n",
       "        -7.60274872e-01, -2.24738176e-01,  7.53471105e-01],\n",
       "       [ 5.60704995e+00, -4.86262541e-01, -1.03017180e+00,\n",
       "        -8.20696004e-01,  1.13540003e-01,  2.66938180e-01],\n",
       "       [ 3.61963634e-01, -1.61852178e+00,  9.72101320e-02,\n",
       "        -7.15855586e-01, -2.81377150e-01,  3.64241982e-01],\n",
       "       [-3.49710559e+00, -9.98965236e-02, -1.41661378e-02,\n",
       "        -2.63412777e-01,  7.54914093e-01, -1.08685222e+00],\n",
       "       [ 3.45602429e+00,  7.92946541e-01, -1.55295025e+00,\n",
       "         5.05748010e-02, -1.91558319e+00,  7.29929873e-01],\n",
       "       [ 6.49335263e+00, -1.65244708e-01,  5.06621182e-01,\n",
       "        -2.63759221e+00,  9.15725217e-01,  6.69363821e-01],\n",
       "       [-1.22819439e+00, -2.16622699e+00,  1.67573830e-02,\n",
       "        -1.35917573e+00, -3.95346828e-03,  1.73165309e+00],\n",
       "       [ 1.07265084e-01,  4.92503920e+00,  2.37093788e+00,\n",
       "         6.60983625e-01,  1.77728001e+00, -1.27117927e-01],\n",
       "       [ 4.06567165e+00,  5.95331065e+00,  1.62493352e+00,\n",
       "         1.45290384e+00, -8.57251954e-01, -4.34958942e-02],\n",
       "       [-2.84100337e+00,  4.07525586e-01, -9.29333489e-01,\n",
       "        -2.25354523e-01,  5.11311903e-01,  1.54171137e-01],\n",
       "       [-2.43444035e+00,  5.26171911e-01, -1.14667518e+00,\n",
       "        -1.37163319e-01,  4.68852015e-01,  1.02755638e+00],\n",
       "       [-2.91403458e+00, -1.71243597e-01, -4.23888878e-01,\n",
       "        -5.29681391e-01,  5.32178825e-01,  8.09816441e-01],\n",
       "       [-2.84735545e+00, -2.38820425e-01, -2.13855832e-01,\n",
       "        -2.73697743e-01,  3.47420855e-01,  2.00474353e-01],\n",
       "       [ 4.54105451e-01, -1.27599462e+00,  1.15631653e+00,\n",
       "        -2.32600718e-01,  9.01919277e-02, -1.07104913e+00],\n",
       "       [ 1.50256890e-01,  1.63446965e+00, -2.44117913e+00,\n",
       "        -4.58126799e-01, -2.23229562e-01,  1.02900524e+00],\n",
       "       [ 1.41326271e+00, -4.89981661e-01, -1.11302590e-01,\n",
       "        -2.13300585e-01,  1.49800227e+00, -1.15197282e+00],\n",
       "       [ 2.13000553e+00, -4.57965644e+00,  4.03420947e-01,\n",
       "         6.56702074e+00,  1.58837456e+00,  3.89963690e+00],\n",
       "       [ 3.00232201e+00, -2.95157926e-01, -1.47568647e+00,\n",
       "        -7.75793479e-01,  6.40692908e-01,  8.81931700e-01],\n",
       "       [ 2.20384682e+00,  7.83586369e-01, -1.98127279e+00,\n",
       "        -1.59246405e-01, -1.25088346e-01,  6.45780232e-02],\n",
       "       [-2.90513822e+00,  4.47967975e+00,  2.58748963e+00,\n",
       "         8.53681220e-01,  2.17851642e+00, -5.03095208e-01],\n",
       "       [-1.06889632e+00,  2.53616203e-01, -6.12345160e-01,\n",
       "        -7.29647336e-01, -6.38690090e-02,  1.01750117e-01],\n",
       "       [-1.41505009e+00, -1.59385968e+00,  1.45341954e+00,\n",
       "        -4.29640264e-01, -2.47066806e-01, -8.44581681e-01],\n",
       "       [-1.10298056e+00, -1.51060555e-01, -8.43440318e-01,\n",
       "        -5.30231259e-01, -2.20593735e-01,  8.62843657e-01],\n",
       "       [ 2.23462682e+00,  7.51879232e-01, -1.98768844e+00,\n",
       "        -1.58578000e-01, -1.66496047e-01,  6.85400565e-02],\n",
       "       [ 1.54939466e+00,  1.37950609e-01, -7.64398646e-01,\n",
       "        -2.53372820e-01,  1.52692851e+00, -8.17913499e-01],\n",
       "       [ 7.43999218e-01, -1.04497868e+00,  3.71883376e+00,\n",
       "        -2.18030314e-01, -2.69152520e+00,  1.39486716e-01],\n",
       "       [ 2.47396166e+00, -2.29508613e+00,  1.61081024e+00,\n",
       "        -1.84358488e+00,  8.49142558e-01, -4.11401741e-01],\n",
       "       [-1.48561308e+00, -5.64070494e-01, -2.62910413e-01,\n",
       "        -5.01669785e-01, -9.41413811e-02,  1.99437818e-01],\n",
       "       [-3.86344463e+00,  4.43512007e-01, -8.18731170e-01,\n",
       "        -2.67693316e-01,  1.14486513e+00,  6.36892710e-01],\n",
       "       [ 2.50788426e+00,  5.43792828e+00,  2.53015031e+00,\n",
       "         1.50611222e+00, -2.75234524e-01, -5.11992435e-01],\n",
       "       [-2.56444097e+00,  8.79578509e-01, -1.57138472e+00,\n",
       "        -6.33105292e-01, -1.44958349e-01,  2.56752400e+00],\n",
       "       [-1.32820668e+00, -2.35434371e+00,  3.96417557e-01,\n",
       "        -1.57509301e+00, -1.00796278e-01,  1.19316853e+00],\n",
       "       [ 1.02097996e+00, -2.72073909e-01, -1.30541079e+00,\n",
       "        -9.45328868e-01, -2.27339418e-01,  8.20800528e-01],\n",
       "       [-2.07376592e+00,  4.32395614e+00,  2.12680427e+00,\n",
       "         1.03131734e+00,  1.66509158e+00,  1.47886525e-02],\n",
       "       [ 2.54639194e+00,  5.44137992e+00,  2.53584785e+00,\n",
       "         1.50373848e+00, -2.75322986e-01, -5.17076368e-01],\n",
       "       [-2.10531618e+00,  1.59143639e+00, -2.36404826e+00,\n",
       "        -4.03090333e-02,  5.78371964e-01,  4.66829190e-01],\n",
       "       [ 3.78119699e+00, -2.14818688e-01, -1.69793318e+00,\n",
       "        -8.49621587e-01,  6.25135773e-01, -8.81663610e-02],\n",
       "       [-4.08917420e+00, -8.36585181e-01,  6.88188467e-01,\n",
       "        -6.13256264e-01,  7.93897192e-01, -2.44771668e-02],\n",
       "       [ 3.26398634e+00,  6.81111521e-01, -1.24608847e+00,\n",
       "        -2.20946844e-01, -1.88044050e+00,  2.27254540e-01],\n",
       "       [ 2.58457520e+00, -1.01901392e+00,  8.88202021e-01,\n",
       "         1.82119036e-01, -1.90665527e+00, -1.08730961e+00],\n",
       "       [-4.11851866e+00, -8.38259813e-01,  6.84550187e-01,\n",
       "        -6.11028659e-01,  7.94560241e-01, -2.05294363e-02],\n",
       "       [-2.82705140e+00, -2.37000473e-01, -2.10851678e-01,\n",
       "        -2.74949354e-01,  3.47374212e-01,  1.97793734e-01],\n",
       "       [-1.34177959e+00,  6.45521028e-02, -9.14866963e-01,\n",
       "        -5.42216769e-01, -6.52328346e-02,  5.32480357e-01],\n",
       "       [ 6.07389783e-01, -1.97594093e+00,  1.33222982e+00,\n",
       "        -1.89630447e+00,  1.37946881e+00,  1.73273833e-01],\n",
       "       [ 5.47203925e+00,  5.45530532e+00,  2.56767174e+00,\n",
       "         1.92767337e-01, -2.14011203e-01, -9.25776216e-02],\n",
       "       [-9.66831348e-01, -9.38439176e-02, -3.27102178e-01,\n",
       "        -3.79111006e-01, -1.56667992e-02,  2.04564286e-01],\n",
       "       [-1.50582106e+00,  1.52364400e+00, -2.57656723e+00,\n",
       "        -8.55262596e-02, -4.84254604e-02,  3.23603632e-01],\n",
       "       [ 2.33445528e+00,  4.59528967e-02, -1.27257640e+00,\n",
       "        -1.23940958e+00, -5.55011846e-01,  4.89586568e-01],\n",
       "       [ 7.05832701e-01, -7.15974712e-01,  1.01881891e-02,\n",
       "         4.18129107e-01,  3.80831335e-01,  5.50782580e-01],\n",
       "       [-9.06123086e-01, -3.06597573e+00,  1.74681999e+00,\n",
       "        -5.61372518e-01,  3.68794096e-01, -2.07300305e+00],\n",
       "       [-3.15293949e+00,  1.08222423e+00, -1.05333474e+00,\n",
       "        -2.14071766e-02,  1.35734287e+00, -3.20728528e-01],\n",
       "       [-3.60959132e+00, -1.29902601e+00,  9.04079406e-01,\n",
       "        -5.81115301e-01,  3.39477010e-01, -1.10374689e-01],\n",
       "       [ 3.15357936e+00,  8.75615842e-01, -3.34093814e+00,\n",
       "         9.62368353e-01, -6.24224060e-01, -1.38926547e+00],\n",
       "       [ 1.63291919e+00, -1.14337151e-01, -1.26813097e+00,\n",
       "         8.81031067e-02, -2.84855988e-01, -4.22158281e-01],\n",
       "       [-1.32753986e+00, -2.00659722e+00,  1.73644001e+00,\n",
       "         9.48567662e-01, -2.84733763e+00,  8.36750577e-02],\n",
       "       [ 2.64882579e+00,  6.77542802e-01, -1.72893009e+00,\n",
       "        -2.55771807e-01, -3.24009358e-01, -1.36706527e-01],\n",
       "       [-8.77504360e-01,  4.81805522e-01,  2.15491108e-01,\n",
       "        -5.58442257e-01, -7.78801094e-01,  1.39001252e+00],\n",
       "       [-2.06655852e+00, -1.87825411e+00,  8.01333022e-01,\n",
       "        -7.53726840e-01, -6.66643592e-01, -5.44364071e-01],\n",
       "       [-4.75028621e-01, -1.00949083e+00,  1.62507337e+00,\n",
       "        -1.61578965e-02, -3.50431191e-01, -9.16289064e-01],\n",
       "       [ 7.81613011e+00, -9.77326846e-01, -2.51897622e-01,\n",
       "        -5.58403837e-01,  1.94439083e+00, -3.02967087e-01],\n",
       "       [-2.71542434e+00,  3.88735304e-01, -8.67573437e-01,\n",
       "        -3.13511024e-01,  3.76356744e-01,  5.35088289e-01],\n",
       "       [-7.87788263e-01,  6.66753322e-01, -2.74906937e+00,\n",
       "         2.59652254e+00, -8.46915263e-01, -1.12359528e+00],\n",
       "       [-7.60896059e-01,  4.86490110e-01,  1.43675984e+00,\n",
       "        -3.30058923e-01, -2.21366292e+00,  1.52930850e+00],\n",
       "       [ 2.89768985e+00,  4.94367009e+00,  2.63663611e+00,\n",
       "         1.23298163e-02,  7.18298494e-01,  7.34304885e-01],\n",
       "       [-1.13889465e-01, -1.55396167e+00, -6.02553809e-01,\n",
       "         2.73258998e-01, -4.72499289e-01, -1.83908631e-01],\n",
       "       [-4.58780280e+00, -3.28455458e-01,  7.37219378e-01,\n",
       "        -3.69374609e-01,  7.17017460e-01, -5.41535205e-02],\n",
       "       [ 8.14353723e-01, -1.04043149e+00,  3.72703848e+00,\n",
       "        -2.09722276e-01, -2.69707363e+00,  1.23758256e-01],\n",
       "       [-2.19301674e+00,  2.78055614e-01, -7.37531168e-01,\n",
       "        -2.81731984e-01,  3.35598013e-01, -8.81485739e-01],\n",
       "       [-9.59782212e-01,  4.42548757e-01, -9.90658644e-01,\n",
       "        -5.14291119e-01,  3.29528915e-02,  6.39033022e-01],\n",
       "       [ 1.13870034e+00, -2.80648408e+00,  1.43223390e+00,\n",
       "         5.82738474e-01, -5.18257730e-01, -1.14769673e+00],\n",
       "       [-2.20086753e+00, -1.45682078e+00,  1.32533891e+00,\n",
       "        -7.08624641e-01, -1.45657494e+00,  4.16886968e-01],\n",
       "       [ 2.13000553e+00, -4.57965644e+00,  4.03420947e-01,\n",
       "         6.56702074e+00,  1.58837456e+00,  3.89963690e+00],\n",
       "       [ 1.32124140e+00, -1.38674418e+00,  7.43221534e-01,\n",
       "        -1.07893128e+00, -2.03702868e+00,  1.78292660e-01],\n",
       "       [-2.73135332e-01,  1.17934318e+00, -8.19722726e-01,\n",
       "        -9.21513278e-01,  3.77638803e-01, -1.07622291e+00],\n",
       "       [ 1.66092986e+00, -3.15928164e+00,  2.11821242e+00,\n",
       "        -6.88395260e-01,  1.02187362e+00, -7.24287828e-01],\n",
       "       [-2.08305442e+00,  5.04816624e+00,  3.06805025e+00,\n",
       "         8.37791213e-01,  4.85887874e-01,  4.72017665e-01],\n",
       "       [ 7.66468803e-01, -2.14856019e-01, -1.33318656e+00,\n",
       "         6.03739902e-02, -7.13974580e-01, -2.24796274e-01],\n",
       "       [ 2.24413910e+00,  3.10836497e-01, -2.73681860e+00,\n",
       "         9.83499662e-01, -5.52671484e-01, -1.82610414e+00],\n",
       "       [-1.52568182e-02,  6.26451312e-01, -1.83093568e+00,\n",
       "        -7.14391959e-01, -2.30714284e-01,  1.31858647e+00],\n",
       "       [-4.17454542e-01,  7.02920760e-01, -8.19560593e-01,\n",
       "        -6.35883803e-01, -1.29694165e-01, -6.16803285e-01],\n",
       "       [ 4.12713776e+00, -9.21508107e-01, -8.33623726e-01,\n",
       "        -4.73651836e-01,  4.81305593e-01,  5.36229279e-01],\n",
       "       [-6.69026275e-01, -2.39808685e-01, -1.05610659e+00,\n",
       "        -1.00652831e+00, -4.42860632e-01,  1.53636011e+00],\n",
       "       [ 7.03032143e-01, -7.16225740e-01,  9.77382298e-03,\n",
       "         4.18301743e-01,  3.80837768e-01,  5.51152321e-01],\n",
       "       [ 3.30195609e+00,  1.41941145e+00, -2.68324713e+00,\n",
       "        -6.39491858e-02, -9.40801225e-01,  1.78341649e-02],\n",
       "       [-1.20631424e+00, -1.01327462e+00,  3.21769592e+00,\n",
       "        -3.80760817e-01, -2.44506936e+00,  4.79792787e-01],\n",
       "       [-3.35350714e+00, -4.83213715e-01,  1.76568010e-01,\n",
       "        -4.05033417e-01,  4.72340842e-01, -6.66849517e-01],\n",
       "       [-3.40473890e+00, -2.87744434e-01, -3.48233997e-01,\n",
       "        -4.50966322e-01,  5.58324244e-01,  8.40584364e-01],\n",
       "       [-4.04851001e+00, -1.05183067e+00,  9.36999262e-01,\n",
       "        -5.68430066e-01,  7.07549363e-01, -1.10738836e-01],\n",
       "       [-1.12055921e+00,  7.11485421e-02, -8.22542327e-01,\n",
       "        -8.42724496e-02,  2.98391994e-01,  2.59258664e-02],\n",
       "       [-3.54465916e+00, -4.79438295e-01,  2.55214604e-02,\n",
       "        -6.64423544e-01,  4.61573113e-01,  3.07368606e-01],\n",
       "       [-5.74780075e-01, -2.54096759e-01, -7.48362513e-01,\n",
       "        -6.46454907e-01, -4.17273746e-01,  7.61741931e-01],\n",
       "       [-2.12707366e-01,  5.34480966e+00,  2.25483099e+00,\n",
       "         7.96976340e-01, -4.42117155e-02,  2.39757943e-01],\n",
       "       [ 7.82539169e+00, -3.52484319e+00,  1.75249958e+00,\n",
       "        -3.86142864e-01,  4.49794236e+00, -1.15776358e+00],\n",
       "       [ 1.12090434e-01,  5.98365577e-01, -2.18176447e+00,\n",
       "         2.62217755e+00, -2.31853737e+00, -8.72257981e-01],\n",
       "       [-5.60030772e-01, -1.32479818e+00,  1.32109376e+00,\n",
       "        -9.33717157e-01, -4.07488370e-01, -2.49782573e-01],\n",
       "       [ 2.43366617e+00,  8.64341822e-01, -2.29351431e+00,\n",
       "         1.12512055e-01, -2.01654822e-01,  5.70291037e-01],\n",
       "       [-6.18942088e+00,  9.78141167e-03,  1.88935476e+00,\n",
       "        -2.94189498e-01,  2.01391720e+00, -4.08771320e-01],\n",
       "       [-3.11719878e+00, -1.64865831e-01, -4.67337256e-01,\n",
       "        -5.23405728e-01,  4.73990907e-01,  8.31520618e-01],\n",
       "       [ 2.34971229e+00,  6.42265500e-01, -1.80679170e+00,\n",
       "        -4.31006063e-02, -8.01631442e-01, -4.79444681e-01],\n",
       "       [ 3.05230432e+00, -2.22472416e-01, -7.31896652e-01,\n",
       "        -1.96795197e+00,  1.26206820e+00,  7.58138603e-01],\n",
       "       [ 3.19882097e+00,  2.03682237e-01, -4.80387334e-01,\n",
       "        -1.19434650e+00, -2.10420630e+00,  8.57235742e-01],\n",
       "       [-3.03439455e-01,  8.92292613e-01, -1.19714894e+00,\n",
       "        -4.20829699e-01, -3.28835236e-02, -8.01674266e-02],\n",
       "       [ 1.66274295e+00, -5.33814796e+00,  1.91211686e+00,\n",
       "         5.70749486e+00,  1.20115773e+00,  1.75457243e+00],\n",
       "       [-9.06123086e-01, -3.06597573e+00,  1.74681999e+00,\n",
       "        -5.61372518e-01,  3.68794096e-01, -2.07300305e+00],\n",
       "       [-1.32403916e+00, -2.00628343e+00,  1.73695797e+00,\n",
       "         9.48351867e-01, -2.84734567e+00,  8.32128820e-02],\n",
       "       [-3.69786501e+00, -1.08804799e+00,  6.48224387e-01,\n",
       "        -6.23006686e-01,  4.25934209e-01, -1.78274300e-02],\n",
       "       [-6.80011659e-01, -3.44095398e-01,  3.05949214e-01,\n",
       "        -5.31269144e-01, -1.85449814e-01, -1.06027258e+00],\n",
       "       [-1.20757011e+00,  4.94139605e+00,  1.78789026e+00,\n",
       "         9.24613887e-01,  1.69815639e+00,  9.28645068e-02],\n",
       "       [ 2.53598782e+00,  2.43169370e-01, -1.63721580e+00,\n",
       "        -1.02975035e+00, -4.58402252e-01,  1.01466803e+00],\n",
       "       [ 3.59990420e+00,  6.87950415e-01, -9.03663989e-01,\n",
       "        -9.84209635e-02, -1.85021331e+00,  1.37211573e-01],\n",
       "       [-1.62211978e+00,  5.81813862e-01, -1.70758474e+00,\n",
       "         2.44284278e+00,  1.28726508e-01, -1.63158458e+00],\n",
       "       [-9.38825764e-01, -9.13336391e-02, -3.22958517e-01,\n",
       "        -3.80837366e-01, -1.57311346e-02,  2.00866881e-01],\n",
       "       [-2.69231973e+00,  3.90806284e-01, -8.64154917e-01,\n",
       "        -3.14935271e-01,  3.76303668e-01,  5.32037930e-01],\n",
       "       [ 4.88159161e+00,  5.53781828e+00,  2.07089984e+00,\n",
       "         6.57567234e-01, -1.15856976e-02,  6.46120364e-01],\n",
       "       [-2.99182257e+00, -6.71322993e-01,  1.44346175e-01,\n",
       "        -4.27151324e-01,  1.52408081e-01, -6.82873908e-01],\n",
       "       [-1.17064600e+00,  6.26059310e-01, -1.68164337e+00,\n",
       "         2.50395824e+00, -3.39434190e-02, -2.09290052e+00],\n",
       "       [-2.43530076e+00,  4.05011883e-01, -7.19396803e-01,\n",
       "        -2.70904824e-01,  5.37870679e-01, -8.75707443e-01],\n",
       "       [-2.32225636e+00,  6.15149720e-01, -1.12499567e+00,\n",
       "        -5.54987545e-02,  6.27931663e-01, -3.32334303e-01],\n",
       "       [-2.22726589e+00, -9.69900619e-01, -2.80629549e-01,\n",
       "         2.63543631e+00, -4.00569758e-01, -2.94240895e+00],\n",
       "       [-9.26450269e-01,  5.61642340e-01, -2.21555805e+00,\n",
       "         2.60595367e+00, -1.95442591e-01, -1.10582315e+00],\n",
       "       [ 2.61539254e+00, -6.35370470e-01, -9.60347284e-01,\n",
       "        -9.59532942e-01,  6.00575714e-01,  3.41817527e-01],\n",
       "       [-3.78241601e+00,  4.72888073e-01, -8.45538603e-01,\n",
       "        -2.88640104e-01,  1.12237193e+00,  6.32658892e-01],\n",
       "       [ 2.39907286e+00, -2.26733268e+00,  1.61069962e+00,\n",
       "        -1.84153426e+00,  8.90651587e-01, -4.09540361e-01],\n",
       "       [-3.40473890e+00, -2.87744434e-01, -3.48233997e-01,\n",
       "        -4.50966322e-01,  5.58324244e-01,  8.40584364e-01],\n",
       "       [-5.20999631e-01, -1.50327500e+00, -9.06033422e-01,\n",
       "        -2.31288819e-01, -1.36771152e-01, -1.73373979e+00],\n",
       "       [ 6.79849682e+00,  2.47812219e-01, -1.35481627e+00,\n",
       "        -1.50332048e+00,  1.65486085e+00, -7.68831537e-01],\n",
       "       [ 4.77117822e+00, -3.43942800e+00,  1.32662828e+00,\n",
       "         2.45945468e+00,  8.51142814e-01, -1.12769724e+00],\n",
       "       [-8.62190146e-01,  3.37667948e-01, -2.29524131e+00,\n",
       "         2.38111525e+00, -1.02979355e+00, -1.68368587e+00],\n",
       "       [-8.33235013e-01,  5.47938539e+00,  2.56452304e+00,\n",
       "         5.12437658e-01,  2.23416991e-01,  4.37909461e-01],\n",
       "       [-2.37609550e+00, -6.15705875e-01,  2.61622308e+00,\n",
       "        -3.83683484e-01, -2.07539160e+00,  7.56108674e-01],\n",
       "       [ 7.22360008e-01, -2.18809708e-01, -1.33971282e+00,\n",
       "         6.30930073e-02, -7.13873251e-01, -2.18972860e-01],\n",
       "       [ 1.65192595e+00, -3.34766925e-01, -2.96102241e-01,\n",
       "        -9.13308437e-01, -1.90381655e+00,  7.19943627e-01],\n",
       "       [ 4.22980925e+00, -3.25237799e+00,  2.32872516e+00,\n",
       "        -1.01635542e+00,  1.69508640e+00, -2.29227257e+00],\n",
       "       [-2.46941464e+00, -6.49370734e-01, -7.79832703e-01,\n",
       "         2.64285136e+00, -7.24314241e-01, -2.96258493e+00],\n",
       "       [-1.84824104e+00, -5.80500878e-01,  6.69641678e-01,\n",
       "        -9.92010131e-01, -4.32960860e-01,  7.77553427e-01]])"
      ]
     },
     "execution_count": 234,
     "metadata": {},
     "output_type": "execute_result"
    }
   ],
   "source": [
    "x_train_pca"
   ]
  },
  {
   "cell_type": "code",
   "execution_count": 235,
   "metadata": {},
   "outputs": [],
   "source": [
    "x_test_pca = pca.transform(x_test_std)"
   ]
  },
  {
   "cell_type": "code",
   "execution_count": 236,
   "metadata": {},
   "outputs": [
    {
     "data": {
      "text/plain": [
       "array([[-3.03632650e+00, -1.46136860e+00,  7.38336701e-01,\n",
       "        -4.79690808e-01,  3.94125267e-01, -2.31070144e-01],\n",
       "       [-1.93101796e+00,  3.77876790e-01, -1.36848017e+00,\n",
       "        -3.48494707e-02,  5.18357639e-01,  9.66874946e-01],\n",
       "       [-2.69869484e+00, -3.70904042e-01, -3.21937918e-01,\n",
       "        -1.74444776e-01,  5.67939039e-01, -1.10489046e+00],\n",
       "       [-3.46119065e+00, -5.63364543e-01, -1.64826667e-01,\n",
       "        -6.47164494e-02,  1.05255114e+00,  1.42447633e-01],\n",
       "       [-1.20214325e+00,  2.58974902e-01, -8.02704229e-01,\n",
       "        -6.80666448e-01, -2.25635859e-01,  1.68711501e+00],\n",
       "       [ 4.97940016e+00,  4.62656728e+00,  2.31023473e+00,\n",
       "         4.69140030e-01,  1.55175877e-01,  2.13336312e-01],\n",
       "       [-2.16405320e+00, -3.71268369e-01, -7.60382573e-01,\n",
       "         3.23999144e-01,  5.41904782e-01,  1.10233029e+00],\n",
       "       [-6.64801686e+00, -3.24736458e-01,  8.66418533e-02,\n",
       "         8.45391732e-01,  9.64776513e-01, -7.03251030e-01],\n",
       "       [-2.61912420e+00,  2.41198316e-01, -9.71637688e-01,\n",
       "        -2.10476752e-01,  5.96484253e-01, -7.69515541e-01],\n",
       "       [ 1.63786158e-01,  7.60406204e-01, -1.46102390e+00,\n",
       "        -3.15550805e-01,  2.84479790e-02, -4.94629902e-02],\n",
       "       [ 1.00042109e+00, -1.11643737e+00, -1.12041513e+00,\n",
       "        -6.32031965e-01, -4.75909414e-01,  5.98527046e-01],\n",
       "       [ 1.04574250e+00, -1.60473105e+00,  1.28845660e+00,\n",
       "        -3.26809180e-01,  3.62906172e-02, -1.54486156e+00],\n",
       "       [ 2.87812447e+00,  7.88098931e-01, -2.56999256e+00,\n",
       "         2.72327104e-01, -2.41598037e-02,  5.43929923e-01],\n",
       "       [-1.29067515e+00, -6.46302146e-01,  4.54252627e-01,\n",
       "        -8.92367931e-01, -3.27850616e-01,  6.85254704e-01],\n",
       "       [ 1.33893544e+00, -1.97080616e+00,  2.79610766e+00,\n",
       "        -3.22465818e-01, -2.11526552e+00, -8.87317548e-03],\n",
       "       [ 1.30165244e+00, -9.87695659e-01, -8.54309423e-02,\n",
       "         5.40684800e-01,  4.61298499e-01,  5.81740264e-01],\n",
       "       [-1.51041057e+00, -2.27518997e+00,  8.02851032e-01,\n",
       "        -4.42817539e-01, -3.80380837e-01, -2.07930140e-01],\n",
       "       [-3.00677873e+00, -1.20683371e+00,  7.34893345e-01,\n",
       "        -7.58830125e-01, -8.51442891e-02,  8.43146305e-01],\n",
       "       [ 1.86325036e+00, -1.65003127e+00,  8.43086903e-01,\n",
       "        -1.12593412e+00, -1.86005885e+00, -1.77257483e-01],\n",
       "       [-6.05532633e-02,  3.04374931e-01, -2.09724007e+00,\n",
       "         3.06689419e+00, -2.11839529e+00, -1.53201274e+00],\n",
       "       [ 1.40762966e-01,  1.39780546e+00, -1.59808880e+00,\n",
       "        -6.19974909e-01,  6.35274567e-01, -3.68542163e-01],\n",
       "       [-3.92566277e+00, -1.88524776e+00,  1.46420050e+00,\n",
       "        -4.81849952e-01,  1.91741240e-01,  8.17726040e-01],\n",
       "       [ 6.22036132e-01, -5.95581717e-01, -1.94568949e+00,\n",
       "         2.84611707e-01, -1.04078605e-01,  1.38147691e-01],\n",
       "       [-1.81541649e+00, -7.54330353e-01,  2.42045003e+00,\n",
       "        -2.88188921e-01, -1.92370458e+00,  6.76800278e-01],\n",
       "       [ 8.45823387e-01, -1.56396383e+00,  1.02599307e+00,\n",
       "        -9.49267213e-02,  1.72236787e-01, -1.00684339e+00],\n",
       "       [-2.99631625e+00, -1.20589591e+00,  7.36441356e-01,\n",
       "        -7.59475068e-01, -8.51683238e-02,  8.41765008e-01],\n",
       "       [ 1.29091383e+00, -1.35656127e+00,  3.68205609e+00,\n",
       "        -7.34485282e-02, -2.54869716e+00,  1.71599352e-01],\n",
       "       [-2.22252510e+00,  4.18222254e+00,  1.81469175e+00,\n",
       "         6.60549091e-01,  1.63642912e+00,  5.04381955e-01],\n",
       "       [-3.00993433e+00, -6.34010115e-01, -1.57745716e-01,\n",
       "        -5.66477420e-01,  5.27829927e-01,  1.92925442e-01],\n",
       "       [-2.12956533e+00,  3.07252625e-01, -9.94868810e-01,\n",
       "        -8.01103006e-01, -5.77892585e-02,  1.78576858e+00],\n",
       "       [-1.39691578e+00, -6.98951923e-01, -1.45959270e-01,\n",
       "         1.56705758e-01,  7.00919604e-01, -6.84434623e-01],\n",
       "       [ 6.28011955e-01,  1.61160394e+00, -2.80582851e+00,\n",
       "        -3.68436473e-01, -1.47916505e-01,  1.07719597e+00],\n",
       "       [ 4.97820765e+00, -2.00117481e+00,  7.12802704e-03,\n",
       "        -3.38049578e-01,  9.37375525e-01,  1.14365723e-01],\n",
       "       [ 7.59492936e-01,  5.81801041e-01, -1.43157517e+00,\n",
       "        -6.22972117e-01, -1.23241176e-01,  1.42388510e+00],\n",
       "       [ 2.95171646e+00,  5.00182005e+00,  2.06858516e+00,\n",
       "         1.67760652e+00, -3.34279620e-01, -4.25263229e-01],\n",
       "       [-2.32040507e+00,  3.56847902e+00,  2.46168250e+00,\n",
       "         6.97709717e-01,  1.60792597e+00,  1.71424305e-01],\n",
       "       [-1.50487112e+00, -1.45521975e+00,  8.04392452e-01,\n",
       "        -3.88244676e-01, -1.19055028e+00,  8.63094424e-01],\n",
       "       [ 7.04985218e+00, -5.58034539e-01,  5.50439522e-01,\n",
       "        -2.82592640e+00,  1.45550357e+00,  9.22159012e-01],\n",
       "       [-4.00726173e-01, -3.02023648e+00,  8.39307244e-01,\n",
       "         1.29260638e+00, -2.54237552e+00, -2.65868519e-01],\n",
       "       [ 3.73850199e+00,  8.03723530e-01, -1.25109231e+00,\n",
       "        -9.67694834e-03, -1.65321780e+00,  6.73920664e-02],\n",
       "       [-2.49395745e+00, -1.22939163e+00, -9.56918551e-01,\n",
       "         3.48241276e+00, -2.92170222e-01, -2.94059483e+00],\n",
       "       [ 3.10013779e+00, -2.71841287e+00,  1.42456458e+00,\n",
       "        -1.05847138e+00,  1.53651464e+00, -6.52619823e-01],\n",
       "       [-3.48141153e+00,  3.66262224e+00,  2.50773032e+00,\n",
       "         6.73392035e-01,  2.30459411e+00,  4.47339608e-01],\n",
       "       [-1.13382276e-01, -1.38637201e-01, -2.74722010e+00,\n",
       "         3.11844443e+00, -4.59635713e-01, -8.74077429e-01],\n",
       "       [-8.85679031e-01, -8.64701572e-02, -1.13782725e+00,\n",
       "        -4.21640623e-01, -1.51022206e-02,  4.97670902e-01],\n",
       "       [-2.40167362e+00, -6.80585359e-01,  9.46314517e-02,\n",
       "        -3.95582940e-01,  3.35736816e-01, -4.32524866e-01],\n",
       "       [ 9.23647303e+00, -4.09449888e-01, -8.58124873e-01,\n",
       "        -1.34332692e+00,  2.46342220e+00, -8.38921471e-01],\n",
       "       [-2.80634234e+00, -6.07978212e-01, -9.57408493e-02,\n",
       "        -3.11793832e-01,  5.00923744e-01, -7.00798196e-01],\n",
       "       [ 3.59598462e+00,  3.87353634e-02, -1.20354096e+00,\n",
       "         4.67062269e-01, -2.17910990e+00,  3.97332365e-01],\n",
       "       [ 3.07644140e+00, -7.61985504e-01, -1.10524342e+00,\n",
       "        -9.82708202e-01,  1.24119859e+00,  4.08287791e-01],\n",
       "       [ 4.74056966e+00,  3.79103312e+00,  2.80540619e+00,\n",
       "         1.09775493e+00,  3.43694137e-01,  8.67586746e-01],\n",
       "       [ 2.72068269e+00,  5.12284292e-01, -2.08585045e+00,\n",
       "         2.59898734e-01, -7.06552876e-01, -4.96905608e-01],\n",
       "       [ 3.26005366e+00, -9.64375908e-02, -9.85038254e-01,\n",
       "        -3.00338981e-01,  1.44329151e+00, -8.81355282e-01],\n",
       "       [-1.56939294e+00,  3.15868336e-01, -1.36896868e+00,\n",
       "         3.46747633e-02,  4.93195029e-01, -3.67359507e-01],\n",
       "       [-2.27729952e-01, -5.19318248e-01,  9.17765686e-02,\n",
       "        -4.18286477e-01, -1.24345331e-01, -1.03591678e+00],\n",
       "       [-3.58523372e+00, -7.52953123e-01,  2.09776034e-01,\n",
       "        -2.78306805e-01,  9.56133139e-01, -3.90763710e-01],\n",
       "       [ 2.31254429e-01,  9.93086232e-01, -1.07224501e+00,\n",
       "        -8.44227033e-01,  4.25307047e-01, -9.46543646e-01],\n",
       "       [-8.32180035e-01,  3.26284492e-01, -7.52018359e-01,\n",
       "        -7.66851465e-01, -2.87181228e-01,  1.56582703e+00],\n",
       "       [ 4.34403253e+00,  5.53369662e+00,  1.13560894e+00,\n",
       "         1.64747298e+00, -8.80791018e-01,  6.67579019e-02],\n",
       "       [-1.49807219e+00, -8.86489058e-01,  2.32029705e-01,\n",
       "        -5.82954097e-02,  6.04449032e-01, -1.22066755e+00],\n",
       "       [-1.00911545e+00, -2.12289502e+00,  1.59616994e+00,\n",
       "         1.44095807e+00, -3.04524000e+00, -1.47273638e-01],\n",
       "       [ 3.73232199e-01,  1.30406542e+00, -1.60426621e+00,\n",
       "        -6.30064198e-01,  4.82899886e-01, -3.77736195e-01]])"
      ]
     },
     "execution_count": 236,
     "metadata": {},
     "output_type": "execute_result"
    }
   ],
   "source": [
    "x_test_pca"
   ]
  },
  {
   "cell_type": "markdown",
   "metadata": {},
   "source": [
    "Principal Component Analysis on Linear Regression Algorithm"
   ]
  },
  {
   "cell_type": "code",
   "execution_count": 237,
   "metadata": {},
   "outputs": [
    {
     "data": {
      "text/plain": [
       "LinearRegression()"
      ]
     },
     "execution_count": 237,
     "metadata": {},
     "output_type": "execute_result"
    }
   ],
   "source": [
    "model_lr2 = LinearRegression()\n",
    "model_lr2.fit(x_train_pca, y_train)"
   ]
  },
  {
   "cell_type": "code",
   "execution_count": 238,
   "metadata": {},
   "outputs": [],
   "source": [
    "y_pred = model_lr2.predict(x_test_pca)"
   ]
  },
  {
   "cell_type": "code",
   "execution_count": 239,
   "metadata": {},
   "outputs": [
    {
     "data": {
      "text/plain": [
       "11899591.379518509"
      ]
     },
     "execution_count": 239,
     "metadata": {},
     "output_type": "execute_result"
    }
   ],
   "source": [
    "mean_squared_error(y_pred, y_test)"
   ]
  },
  {
   "cell_type": "code",
   "execution_count": 240,
   "metadata": {},
   "outputs": [
    {
     "data": {
      "text/plain": [
       "2403.9209487017"
      ]
     },
     "execution_count": 240,
     "metadata": {},
     "output_type": "execute_result"
    }
   ],
   "source": [
    "mean_absolute_error(y_pred, y_test)"
   ]
  },
  {
   "cell_type": "code",
   "execution_count": 241,
   "metadata": {},
   "outputs": [
    {
     "data": {
      "text/plain": [
       "0.7650117732053495"
      ]
     },
     "execution_count": 241,
     "metadata": {},
     "output_type": "execute_result"
    }
   ],
   "source": [
    "r2_score(y_pred, y_test)"
   ]
  },
  {
   "cell_type": "markdown",
   "metadata": {},
   "source": [
    "#Principal Component Analysis on Random Forest Algorithm"
   ]
  },
  {
   "cell_type": "code",
   "execution_count": 242,
   "metadata": {},
   "outputs": [
    {
     "name": "stderr",
     "output_type": "stream",
     "text": [
      "C:\\Users\\Tony\\anaconda3\\lib\\site-packages\\ipykernel_launcher.py:2: DataConversionWarning: A column-vector y was passed when a 1d array was expected. Please change the shape of y to (n_samples,), for example using ravel().\n",
      "  \n"
     ]
    },
    {
     "data": {
      "text/plain": [
       "RandomForestRegressor()"
      ]
     },
     "execution_count": 242,
     "metadata": {},
     "output_type": "execute_result"
    }
   ],
   "source": [
    "model_rf2 = RandomForestRegressor()\n",
    "model_rf2.fit(x_train_pca, y_train)"
   ]
  },
  {
   "cell_type": "code",
   "execution_count": 243,
   "metadata": {},
   "outputs": [],
   "source": [
    "y_pred = model_rf2.predict(x_test_pca)"
   ]
  },
  {
   "cell_type": "code",
   "execution_count": 244,
   "metadata": {
    "scrolled": true
   },
   "outputs": [
    {
     "data": {
      "text/plain": [
       "9377336.908864817"
      ]
     },
     "execution_count": 244,
     "metadata": {},
     "output_type": "execute_result"
    }
   ],
   "source": [
    "mean_squared_error(y_pred, y_test)"
   ]
  },
  {
   "cell_type": "code",
   "execution_count": 245,
   "metadata": {
    "scrolled": true
   },
   "outputs": [
    {
     "data": {
      "text/plain": [
       "1925.106239032258"
      ]
     },
     "execution_count": 245,
     "metadata": {},
     "output_type": "execute_result"
    }
   ],
   "source": [
    "mean_absolute_error(y_pred, y_test)"
   ]
  },
  {
   "cell_type": "code",
   "execution_count": 246,
   "metadata": {},
   "outputs": [
    {
     "data": {
      "text/plain": [
       "0.8411837347093609"
      ]
     },
     "execution_count": 246,
     "metadata": {},
     "output_type": "execute_result"
    }
   ],
   "source": [
    "r2_score(y_pred, y_test)"
   ]
  },
  {
   "cell_type": "markdown",
   "metadata": {},
   "source": [
    "## Conclusion:"
   ]
  },
  {
   "cell_type": "markdown",
   "metadata": {},
   "source": [
    "## Linear Regression\n",
    "\n",
    "mean_squared_error(y_pred, y_test):\n",
    "12326459.515930368\n",
    "\n",
    "mean_absolute_error(y_pred, y_test):\n",
    "\n",
    "2628.6735638618597\n",
    "\n",
    "r2_score(y_pred, y_test)\n",
    "0.7414765309589597\n",
    "\n",
    "\n",
    "### Random Forest Regressor\n",
    "\n",
    "mean_squared_error(y_pred, y_test):\n",
    "12925902.504392702\n",
    "\n",
    "mean_absolute_error(y_pred, y_test):\n",
    "2111.7910444854074\n",
    "\n",
    "r2_score(y_pred, y_test)\n",
    "0.7945674581913338\n",
    "\n",
    "## Principal Component Analysis for each algorithm\n",
    "\n",
    "### PCA for Linear Regression:\n",
    "\n",
    "\n",
    "mean_squared_error(y_pred, y_test):\n",
    "11899591.379518509\n",
    "\n",
    "\n",
    "mean_absolute_error(y_pred, y_test):\n",
    "2403.9209487017\n",
    "\n",
    "r2_score(y_pred, y_test)\n",
    "0.7650117732053495\n",
    "\n",
    "\n",
    "### PCA for Random Forest Regressor:\n",
    "\n",
    "mean_squared_error(y_pred, y_test):\n",
    "9377336.908864817\n",
    "\n",
    "mean_absolute_error(y_pred, y_test):\n",
    "1925.106239032258\n",
    "\n",
    "r2_score(y_pred, y_test):\n",
    "0.8411837347093609\n"
   ]
  },
  {
   "cell_type": "code",
   "execution_count": null,
   "metadata": {},
   "outputs": [],
   "source": []
  }
 ],
 "metadata": {
  "kernelspec": {
   "display_name": "Python 3",
   "language": "python",
   "name": "python3"
  },
  "language_info": {
   "codemirror_mode": {
    "name": "ipython",
    "version": 3
   },
   "file_extension": ".py",
   "mimetype": "text/x-python",
   "name": "python",
   "nbconvert_exporter": "python",
   "pygments_lexer": "ipython3",
   "version": "3.7.7"
  }
 },
 "nbformat": 4,
 "nbformat_minor": 4
}
